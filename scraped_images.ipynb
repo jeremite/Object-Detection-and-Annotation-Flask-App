{
 "cells": [
  {
   "cell_type": "code",
   "execution_count": null,
   "metadata": {},
   "outputs": [],
   "source": [
    "D:\\WM\\Project\\ladder\\chromedriver_win32"
   ]
  },
  {
   "cell_type": "code",
   "execution_count": 2,
   "metadata": {},
   "outputs": [],
   "source": [
    "import sys"
   ]
  },
  {
   "cell_type": "code",
   "execution_count": 3,
   "metadata": {},
   "outputs": [
    {
     "data": {
      "text/plain": [
       "['D:\\\\WM\\\\Project\\\\ladder',\n",
       " 'D:\\\\WM\\\\Project\\\\ladder\\\\PYTHONPATH=\\\\path\\\\to\\\\dlib\\\\python_examples:$PYTHONPATH',\n",
       " 'C:\\\\Users\\\\54308\\\\AppData\\\\Local\\\\Programs\\\\Python\\\\Python37\\\\python37.zip',\n",
       " 'C:\\\\Users\\\\54308\\\\AppData\\\\Local\\\\Programs\\\\Python\\\\Python37\\\\DLLs',\n",
       " 'C:\\\\Users\\\\54308\\\\AppData\\\\Local\\\\Programs\\\\Python\\\\Python37\\\\lib',\n",
       " 'C:\\\\Users\\\\54308\\\\AppData\\\\Local\\\\Programs\\\\Python\\\\Python37',\n",
       " 'd:\\\\wm\\\\project\\\\quora',\n",
       " '',\n",
       " 'd:\\\\wm\\\\project\\\\quora\\\\lib\\\\site-packages',\n",
       " 'd:\\\\wm\\\\project\\\\quora\\\\lib\\\\site-packages\\\\win32',\n",
       " 'd:\\\\wm\\\\project\\\\quora\\\\lib\\\\site-packages\\\\win32\\\\lib',\n",
       " 'd:\\\\wm\\\\project\\\\quora\\\\lib\\\\site-packages\\\\Pythonwin',\n",
       " 'd:\\\\wm\\\\project\\\\quora\\\\lib\\\\site-packages\\\\IPython\\\\extensions',\n",
       " 'C:\\\\Users\\\\54308\\\\.ipython']"
      ]
     },
     "execution_count": 3,
     "metadata": {},
     "output_type": "execute_result"
    }
   ],
   "source": [
    "sys.path"
   ]
  },
  {
   "cell_type": "code",
   "execution_count": 1,
   "metadata": {},
   "outputs": [],
   "source": [
    "import selenium\n",
    "# This is the path I use\n",
    "# DRIVER_PATH = '.../Desktop/Scraping/chromedriver 2'\n",
    "# Put the path for your ChromeDriver here\n",
    "from selenium import webdriver\n",
    "\n",
    "DRIVER_PATH = \"D:\\WM\\Project\\ladder\\chromedriver_win32\\chromedriver.exe\"\n",
    "wd = webdriver.Chrome(executable_path=DRIVER_PATH)"
   ]
  },
  {
   "cell_type": "code",
   "execution_count": 2,
   "metadata": {},
   "outputs": [],
   "source": [
    "wd.get('https://google.com')"
   ]
  },
  {
   "cell_type": "code",
   "execution_count": 50,
   "metadata": {},
   "outputs": [],
   "source": [
    "def fetch_image_urls(query:str, max_links_to_fetch:int, wd:webdriver, sleep_between_interactions:int=1):\n",
    "    def scroll_to_end(wd):\n",
    "        wd.execute_script(\"window.scrollTo(0, document.body.scrollHeight);\")\n",
    "        time.sleep(sleep_between_interactions)    \n",
    "    \n",
    "    # build the google query\n",
    "    #search_url = \"https://www.google.com/search?safe=off&site=&tbm=isch&source=hp&q={q}&oq={q}&gs_l=img\"\n",
    "    search_url = \"https://www.pexels.com/search/{q}\"\n",
    "    # load the page\n",
    "    wd.get(search_url.format(q=query))\n",
    "\n",
    "    image_urls = set()\n",
    "    image_count = 0\n",
    "    results_start = 0\n",
    "    while image_count < max_links_to_fetch:\n",
    "        scroll_to_end(wd)\n",
    "\n",
    "        # get all image thumbnail results\n",
    "        thumbnail_results = wd.find_elements_by_css_selector(\"img.Q4LuWd\")\n",
    "        number_results = len(thumbnail_results)\n",
    "        \n",
    "        print(f\"Found: {number_results} search results. Extracting links from {results_start}:{number_results}\")\n",
    "        \n",
    "        for img in thumbnail_results[results_start:number_results]:\n",
    "            # try to click every thumbnail such that we can get the real image behind it\n",
    "            try:\n",
    "                img.click()\n",
    "                time.sleep(sleep_between_interactions)\n",
    "            except Exception:\n",
    "                continue\n",
    "\n",
    "            # extract image urls    \n",
    "            actual_images = wd.find_elements_by_css_selector('img.n3VNCb')\n",
    "            for actual_image in actual_images:\n",
    "                if actual_image.get_attribute('src') and 'http' in actual_image.get_attribute('src'):\n",
    "                    image_urls.add(actual_image.get_attribute('src'))\n",
    "\n",
    "            image_count = len(image_urls)\n",
    "\n",
    "            if len(image_urls) >= max_links_to_fetch:\n",
    "                print(f\"Found: {len(image_urls)} image links, done!\")\n",
    "                break\n",
    "        else:\n",
    "            print(\"Found:\", len(image_urls), \"image links, looking for more ...\")\n",
    "            time.sleep(30)\n",
    "            #return\n",
    "            load_more_button = wd.find_element_by_css_selector(\".mye4qd\")\n",
    "            if load_more_button:\n",
    "                wd.execute_script(\"document.querySelector('.mye4qd').click();\")\n",
    "\n",
    "        # move the result startpoint further down\n",
    "        results_start = len(thumbnail_results)\n",
    "\n",
    "    return image_urls"
   ]
  },
  {
   "cell_type": "code",
   "execution_count": 51,
   "metadata": {},
   "outputs": [],
   "source": [
    "def persist_image(folder_path:str,url:str):\n",
    "    try:\n",
    "        image_content = requests.get(url).content\n",
    "\n",
    "    except Exception as e:\n",
    "        print(f\"ERROR - Could not download {url} - {e}\")\n",
    "\n",
    "    try:\n",
    "        image_file = io.BytesIO(image_content)\n",
    "        image = Image.open(image_file).convert('RGB')\n",
    "        file_path = os.path.join(folder_path,hashlib.sha1(image_content).hexdigest()[:10] + '.jpg')\n",
    "        with open(file_path, 'wb') as f:\n",
    "            image.save(f, \"JPEG\", quality=85)\n",
    "        print(f\"SUCCESS - saved {url} - as {file_path}\")\n",
    "    except Exception as e:\n",
    "        print(f\"ERROR - Could not save {url} - {e}\")"
   ]
  },
  {
   "cell_type": "code",
   "execution_count": 52,
   "metadata": {},
   "outputs": [],
   "source": [
    "def search_and_download(search_term:str,driver_path:str,target_path='./images',number_images=5):\n",
    "    target_folder = os.path.join(target_path,'_'.join(search_term.lower().split(' ')))\n",
    "\n",
    "    if not os.path.exists(target_folder):\n",
    "        os.makedirs(target_folder)\n",
    "\n",
    "    with webdriver.Chrome(executable_path=driver_path) as wd:\n",
    "        res = fetch_image_urls(search_term, number_images, wd=wd, sleep_between_interactions=0.5)\n",
    "        \n",
    "    for elem in res:\n",
    "        persist_image(target_folder,elem)"
   ]
  },
  {
   "cell_type": "code",
   "execution_count": 53,
   "metadata": {},
   "outputs": [],
   "source": [
    "import os\n",
    "import time\n",
    "import requests\n",
    "import io\n",
    "from PIL import Image\n",
    "import hashlib"
   ]
  },
  {
   "cell_type": "code",
   "execution_count": 54,
   "metadata": {},
   "outputs": [
    {
     "name": "stdout",
     "output_type": "stream",
     "text": [
      "Found: 0 search results. Extracting links from 0:0\n",
      "Found: 0 image links, looking for more ...\n"
     ]
    },
    {
     "ename": "NoSuchElementException",
     "evalue": "Message: no such element: Unable to locate element: {\"method\":\"css selector\",\"selector\":\".mye4qd\"}\n  (Session info: chrome=87.0.4280.88)\n",
     "output_type": "error",
     "traceback": [
      "\u001b[1;31m---------------------------------------------------------------------------\u001b[0m",
      "\u001b[1;31mNoSuchElementException\u001b[0m                    Traceback (most recent call last)",
      "\u001b[1;32m<ipython-input-54-462ed816b8e0>\u001b[0m in \u001b[0;36m<module>\u001b[1;34m\u001b[0m\n\u001b[0;32m      1\u001b[0m \u001b[0msearch_term\u001b[0m \u001b[1;33m=\u001b[0m \u001b[1;34m\"ladder\"\u001b[0m\u001b[1;33m\u001b[0m\u001b[1;33m\u001b[0m\u001b[0m\n\u001b[1;32m----> 2\u001b[1;33m \u001b[0msearch_and_download\u001b[0m\u001b[1;33m(\u001b[0m\u001b[0msearch_term\u001b[0m\u001b[1;33m,\u001b[0m\u001b[0mDRIVER_PATH\u001b[0m\u001b[1;33m,\u001b[0m\u001b[0mtarget_path\u001b[0m\u001b[1;33m=\u001b[0m\u001b[1;34m'./images'\u001b[0m\u001b[1;33m,\u001b[0m\u001b[0mnumber_images\u001b[0m\u001b[1;33m=\u001b[0m\u001b[1;36m10\u001b[0m\u001b[1;33m)\u001b[0m\u001b[1;33m\u001b[0m\u001b[1;33m\u001b[0m\u001b[0m\n\u001b[0m",
      "\u001b[1;32m<ipython-input-52-9bec3e5425b1>\u001b[0m in \u001b[0;36msearch_and_download\u001b[1;34m(search_term, driver_path, target_path, number_images)\u001b[0m\n\u001b[0;32m      6\u001b[0m \u001b[1;33m\u001b[0m\u001b[0m\n\u001b[0;32m      7\u001b[0m     \u001b[1;32mwith\u001b[0m \u001b[0mwebdriver\u001b[0m\u001b[1;33m.\u001b[0m\u001b[0mChrome\u001b[0m\u001b[1;33m(\u001b[0m\u001b[0mexecutable_path\u001b[0m\u001b[1;33m=\u001b[0m\u001b[0mdriver_path\u001b[0m\u001b[1;33m)\u001b[0m \u001b[1;32mas\u001b[0m \u001b[0mwd\u001b[0m\u001b[1;33m:\u001b[0m\u001b[1;33m\u001b[0m\u001b[1;33m\u001b[0m\u001b[0m\n\u001b[1;32m----> 8\u001b[1;33m         \u001b[0mres\u001b[0m \u001b[1;33m=\u001b[0m \u001b[0mfetch_image_urls\u001b[0m\u001b[1;33m(\u001b[0m\u001b[0msearch_term\u001b[0m\u001b[1;33m,\u001b[0m \u001b[0mnumber_images\u001b[0m\u001b[1;33m,\u001b[0m \u001b[0mwd\u001b[0m\u001b[1;33m=\u001b[0m\u001b[0mwd\u001b[0m\u001b[1;33m,\u001b[0m \u001b[0msleep_between_interactions\u001b[0m\u001b[1;33m=\u001b[0m\u001b[1;36m0.5\u001b[0m\u001b[1;33m)\u001b[0m\u001b[1;33m\u001b[0m\u001b[1;33m\u001b[0m\u001b[0m\n\u001b[0m\u001b[0;32m      9\u001b[0m \u001b[1;33m\u001b[0m\u001b[0m\n\u001b[0;32m     10\u001b[0m     \u001b[1;32mfor\u001b[0m \u001b[0melem\u001b[0m \u001b[1;32min\u001b[0m \u001b[0mres\u001b[0m\u001b[1;33m:\u001b[0m\u001b[1;33m\u001b[0m\u001b[1;33m\u001b[0m\u001b[0m\n",
      "\u001b[1;32m<ipython-input-50-06cbaa7fc157>\u001b[0m in \u001b[0;36mfetch_image_urls\u001b[1;34m(query, max_links_to_fetch, wd, sleep_between_interactions)\u001b[0m\n\u001b[0;32m     45\u001b[0m             \u001b[0mtime\u001b[0m\u001b[1;33m.\u001b[0m\u001b[0msleep\u001b[0m\u001b[1;33m(\u001b[0m\u001b[1;36m30\u001b[0m\u001b[1;33m)\u001b[0m\u001b[1;33m\u001b[0m\u001b[1;33m\u001b[0m\u001b[0m\n\u001b[0;32m     46\u001b[0m             \u001b[1;31m#return\u001b[0m\u001b[1;33m\u001b[0m\u001b[1;33m\u001b[0m\u001b[1;33m\u001b[0m\u001b[0m\n\u001b[1;32m---> 47\u001b[1;33m             \u001b[0mload_more_button\u001b[0m \u001b[1;33m=\u001b[0m \u001b[0mwd\u001b[0m\u001b[1;33m.\u001b[0m\u001b[0mfind_element_by_css_selector\u001b[0m\u001b[1;33m(\u001b[0m\u001b[1;34m\".mye4qd\"\u001b[0m\u001b[1;33m)\u001b[0m\u001b[1;33m\u001b[0m\u001b[1;33m\u001b[0m\u001b[0m\n\u001b[0m\u001b[0;32m     48\u001b[0m             \u001b[1;32mif\u001b[0m \u001b[0mload_more_button\u001b[0m\u001b[1;33m:\u001b[0m\u001b[1;33m\u001b[0m\u001b[1;33m\u001b[0m\u001b[0m\n\u001b[0;32m     49\u001b[0m                 \u001b[0mwd\u001b[0m\u001b[1;33m.\u001b[0m\u001b[0mexecute_script\u001b[0m\u001b[1;33m(\u001b[0m\u001b[1;34m\"document.querySelector('.mye4qd').click();\"\u001b[0m\u001b[1;33m)\u001b[0m\u001b[1;33m\u001b[0m\u001b[1;33m\u001b[0m\u001b[0m\n",
      "\u001b[1;32md:\\wm\\project\\quora\\lib\\site-packages\\selenium\\webdriver\\remote\\webdriver.py\u001b[0m in \u001b[0;36mfind_element_by_css_selector\u001b[1;34m(self, css_selector)\u001b[0m\n\u001b[0;32m    596\u001b[0m             \u001b[0melement\u001b[0m \u001b[1;33m=\u001b[0m \u001b[0mdriver\u001b[0m\u001b[1;33m.\u001b[0m\u001b[0mfind_element_by_css_selector\u001b[0m\u001b[1;33m(\u001b[0m\u001b[1;34m'#foo'\u001b[0m\u001b[1;33m)\u001b[0m\u001b[1;33m\u001b[0m\u001b[1;33m\u001b[0m\u001b[0m\n\u001b[0;32m    597\u001b[0m         \"\"\"\n\u001b[1;32m--> 598\u001b[1;33m         \u001b[1;32mreturn\u001b[0m \u001b[0mself\u001b[0m\u001b[1;33m.\u001b[0m\u001b[0mfind_element\u001b[0m\u001b[1;33m(\u001b[0m\u001b[0mby\u001b[0m\u001b[1;33m=\u001b[0m\u001b[0mBy\u001b[0m\u001b[1;33m.\u001b[0m\u001b[0mCSS_SELECTOR\u001b[0m\u001b[1;33m,\u001b[0m \u001b[0mvalue\u001b[0m\u001b[1;33m=\u001b[0m\u001b[0mcss_selector\u001b[0m\u001b[1;33m)\u001b[0m\u001b[1;33m\u001b[0m\u001b[1;33m\u001b[0m\u001b[0m\n\u001b[0m\u001b[0;32m    599\u001b[0m \u001b[1;33m\u001b[0m\u001b[0m\n\u001b[0;32m    600\u001b[0m     \u001b[1;32mdef\u001b[0m \u001b[0mfind_elements_by_css_selector\u001b[0m\u001b[1;33m(\u001b[0m\u001b[0mself\u001b[0m\u001b[1;33m,\u001b[0m \u001b[0mcss_selector\u001b[0m\u001b[1;33m)\u001b[0m\u001b[1;33m:\u001b[0m\u001b[1;33m\u001b[0m\u001b[1;33m\u001b[0m\u001b[0m\n",
      "\u001b[1;32md:\\wm\\project\\quora\\lib\\site-packages\\selenium\\webdriver\\remote\\webdriver.py\u001b[0m in \u001b[0;36mfind_element\u001b[1;34m(self, by, value)\u001b[0m\n\u001b[0;32m    976\u001b[0m         return self.execute(Command.FIND_ELEMENT, {\n\u001b[0;32m    977\u001b[0m             \u001b[1;34m'using'\u001b[0m\u001b[1;33m:\u001b[0m \u001b[0mby\u001b[0m\u001b[1;33m,\u001b[0m\u001b[1;33m\u001b[0m\u001b[1;33m\u001b[0m\u001b[0m\n\u001b[1;32m--> 978\u001b[1;33m             'value': value})['value']\n\u001b[0m\u001b[0;32m    979\u001b[0m \u001b[1;33m\u001b[0m\u001b[0m\n\u001b[0;32m    980\u001b[0m     \u001b[1;32mdef\u001b[0m \u001b[0mfind_elements\u001b[0m\u001b[1;33m(\u001b[0m\u001b[0mself\u001b[0m\u001b[1;33m,\u001b[0m \u001b[0mby\u001b[0m\u001b[1;33m=\u001b[0m\u001b[0mBy\u001b[0m\u001b[1;33m.\u001b[0m\u001b[0mID\u001b[0m\u001b[1;33m,\u001b[0m \u001b[0mvalue\u001b[0m\u001b[1;33m=\u001b[0m\u001b[1;32mNone\u001b[0m\u001b[1;33m)\u001b[0m\u001b[1;33m:\u001b[0m\u001b[1;33m\u001b[0m\u001b[1;33m\u001b[0m\u001b[0m\n",
      "\u001b[1;32md:\\wm\\project\\quora\\lib\\site-packages\\selenium\\webdriver\\remote\\webdriver.py\u001b[0m in \u001b[0;36mexecute\u001b[1;34m(self, driver_command, params)\u001b[0m\n\u001b[0;32m    319\u001b[0m         \u001b[0mresponse\u001b[0m \u001b[1;33m=\u001b[0m \u001b[0mself\u001b[0m\u001b[1;33m.\u001b[0m\u001b[0mcommand_executor\u001b[0m\u001b[1;33m.\u001b[0m\u001b[0mexecute\u001b[0m\u001b[1;33m(\u001b[0m\u001b[0mdriver_command\u001b[0m\u001b[1;33m,\u001b[0m \u001b[0mparams\u001b[0m\u001b[1;33m)\u001b[0m\u001b[1;33m\u001b[0m\u001b[1;33m\u001b[0m\u001b[0m\n\u001b[0;32m    320\u001b[0m         \u001b[1;32mif\u001b[0m \u001b[0mresponse\u001b[0m\u001b[1;33m:\u001b[0m\u001b[1;33m\u001b[0m\u001b[1;33m\u001b[0m\u001b[0m\n\u001b[1;32m--> 321\u001b[1;33m             \u001b[0mself\u001b[0m\u001b[1;33m.\u001b[0m\u001b[0merror_handler\u001b[0m\u001b[1;33m.\u001b[0m\u001b[0mcheck_response\u001b[0m\u001b[1;33m(\u001b[0m\u001b[0mresponse\u001b[0m\u001b[1;33m)\u001b[0m\u001b[1;33m\u001b[0m\u001b[1;33m\u001b[0m\u001b[0m\n\u001b[0m\u001b[0;32m    322\u001b[0m             response['value'] = self._unwrap_value(\n\u001b[0;32m    323\u001b[0m                 response.get('value', None))\n",
      "\u001b[1;32md:\\wm\\project\\quora\\lib\\site-packages\\selenium\\webdriver\\remote\\errorhandler.py\u001b[0m in \u001b[0;36mcheck_response\u001b[1;34m(self, response)\u001b[0m\n\u001b[0;32m    240\u001b[0m                 \u001b[0malert_text\u001b[0m \u001b[1;33m=\u001b[0m \u001b[0mvalue\u001b[0m\u001b[1;33m[\u001b[0m\u001b[1;34m'alert'\u001b[0m\u001b[1;33m]\u001b[0m\u001b[1;33m.\u001b[0m\u001b[0mget\u001b[0m\u001b[1;33m(\u001b[0m\u001b[1;34m'text'\u001b[0m\u001b[1;33m)\u001b[0m\u001b[1;33m\u001b[0m\u001b[1;33m\u001b[0m\u001b[0m\n\u001b[0;32m    241\u001b[0m             \u001b[1;32mraise\u001b[0m \u001b[0mexception_class\u001b[0m\u001b[1;33m(\u001b[0m\u001b[0mmessage\u001b[0m\u001b[1;33m,\u001b[0m \u001b[0mscreen\u001b[0m\u001b[1;33m,\u001b[0m \u001b[0mstacktrace\u001b[0m\u001b[1;33m,\u001b[0m \u001b[0malert_text\u001b[0m\u001b[1;33m)\u001b[0m\u001b[1;33m\u001b[0m\u001b[1;33m\u001b[0m\u001b[0m\n\u001b[1;32m--> 242\u001b[1;33m         \u001b[1;32mraise\u001b[0m \u001b[0mexception_class\u001b[0m\u001b[1;33m(\u001b[0m\u001b[0mmessage\u001b[0m\u001b[1;33m,\u001b[0m \u001b[0mscreen\u001b[0m\u001b[1;33m,\u001b[0m \u001b[0mstacktrace\u001b[0m\u001b[1;33m)\u001b[0m\u001b[1;33m\u001b[0m\u001b[1;33m\u001b[0m\u001b[0m\n\u001b[0m\u001b[0;32m    243\u001b[0m \u001b[1;33m\u001b[0m\u001b[0m\n\u001b[0;32m    244\u001b[0m     \u001b[1;32mdef\u001b[0m \u001b[0m_value_or_default\u001b[0m\u001b[1;33m(\u001b[0m\u001b[0mself\u001b[0m\u001b[1;33m,\u001b[0m \u001b[0mobj\u001b[0m\u001b[1;33m,\u001b[0m \u001b[0mkey\u001b[0m\u001b[1;33m,\u001b[0m \u001b[0mdefault\u001b[0m\u001b[1;33m)\u001b[0m\u001b[1;33m:\u001b[0m\u001b[1;33m\u001b[0m\u001b[1;33m\u001b[0m\u001b[0m\n",
      "\u001b[1;31mNoSuchElementException\u001b[0m: Message: no such element: Unable to locate element: {\"method\":\"css selector\",\"selector\":\".mye4qd\"}\n  (Session info: chrome=87.0.4280.88)\n"
     ]
    }
   ],
   "source": [
    "search_term = \"ladder\"\n",
    "search_and_download(search_term,DRIVER_PATH,target_path='./images',number_images=10)"
   ]
  },
  {
   "cell_type": "code",
   "execution_count": 7,
   "metadata": {},
   "outputs": [
    {
     "name": "stdout",
     "output_type": "stream",
     "text": [
      "Found: 100 search results. Extracting links from 0:100\n",
      "Found: 151 image links, done!\n",
      "SUCCESS - saved https://www.momendeavors.com/wp-content/uploads/2012/06/DIY-Patriotic-Ladder-Golf-Game.jpg - as ./images\\ladders_yard\\ce1ef8bef7.jpg\n",
      "SUCCESS - saved https://cdn.statically.io/img/www.loveandrenovations.com/wp-content/uploads/2017/04/TIERED-LADDER-GARDEN-1.png?quality=100&f=auto - as ./images\\ladders_yard\\17b6022455.jpg\n",
      "SUCCESS - saved https://encrypted-tbn0.gstatic.com/images?q=tbn:ANd9GcT9s8iMRkLW7QBbPfWDnC4Pfk5bfCR3kgT3Ig&usqp=CAU - as ./images\\ladders_yard\\9d9d025575.jpg\n",
      "SUCCESS - saved https://www.wikihow.com/images/3/38/Use-an-Extension-Ladder-Step-2-Version-5.jpg - as ./images\\ladders_yard\\a169ce1251.jpg\n",
      "SUCCESS - saved https://encrypted-tbn0.gstatic.com/images?q=tbn:ANd9GcSZelekkcEn_138goOkC8HrYyY0kJ6v8Wt70w&usqp=CAU - as ./images\\ladders_yard\\f7bc32c33f.jpg\n",
      "SUCCESS - saved https://encrypted-tbn0.gstatic.com/images?q=tbn:ANd9GcSqYlviVCwCGhVdLofG4ARu_OpuDU0m4b2-KA&usqp=CAU - as ./images\\ladders_yard\\ea6d23a911.jpg\n",
      "SUCCESS - saved https://encrypted-tbn0.gstatic.com/images?q=tbn:ANd9GcTJiNdW7ldTW-oMlP5Fxw_e4XYCQSAe-5_eJg&usqp=CAU - as ./images\\ladders_yard\\8580b322f3.jpg\n",
      "SUCCESS - saved https://hips.hearstapps.com/ghk.h-cdn.co/assets/cm/15/11/54fe6f6574844-enviro1-de.jpg - as ./images\\ladders_yard\\d10cbb46f9.jpg\n",
      "SUCCESS - saved https://encrypted-tbn0.gstatic.com/images?q=tbn:ANd9GcStDBIfQA0xuQGK2lDDxeyQmfHDDQay-7EDbg&usqp=CAU - as ./images\\ladders_yard\\bf658a6179.jpg\n",
      "SUCCESS - saved https://sierranewsonline.com/wp-content/uploads/images/stories/Blogs/SueLangley/Ladders_repurposed_in_the_garden.jpg - as ./images\\ladders_yard\\afaac99376.jpg\n",
      "SUCCESS - saved https://encrypted-tbn0.gstatic.com/images?q=tbn:ANd9GcQwc7qKjpIHmp31y9bIPJMBPxZe4nGUVDGPag&usqp=CAU - as ./images\\ladders_yard\\b80ddbc97c.jpg\n",
      "SUCCESS - saved https://encrypted-tbn0.gstatic.com/images?q=tbn:ANd9GcR-Etk92TmKGWsY3pMNol4E2e1BcIm1pCh4Mg&usqp=CAU - as ./images\\ladders_yard\\2a2e9991e5.jpg\n",
      "SUCCESS - saved https://encrypted-tbn0.gstatic.com/images?q=tbn:ANd9GcTvSZ03jwtCHqsATOANIfm070e12W8pKdLy8A&usqp=CAU - as ./images\\ladders_yard\\af238942eb.jpg\n",
      "SUCCESS - saved https://encrypted-tbn0.gstatic.com/images?q=tbn:ANd9GcSeySf9TZNnGB40iyLJTnYh4Mss6nRi8Q8Alg&usqp=CAU - as ./images\\ladders_yard\\8850b40b39.jpg\n",
      "SUCCESS - saved https://i.etsystatic.com/21596934/r/il/8d3f3c/2335517417/il_794xN.2335517417_tfbq.jpg - as ./images\\ladders_yard\\8d24d58f62.jpg\n",
      "SUCCESS - saved https://encrypted-tbn0.gstatic.com/images?q=tbn:ANd9GcRwFrQhFbKKj78OM2-k4UiVah2X-zs38j5wdA&usqp=CAU - as ./images\\ladders_yard\\af24e736d7.jpg\n",
      "ERROR - Could not save https://www.fleamarketgardening.org/wp-content/uploads/2015/04/Shelley-Works-planter-boxes-anchored-with-brackets.jpg?e768a3 - cannot identify image file <_io.BytesIO object at 0x000002C524DAFB88>\n",
      "SUCCESS - saved https://encrypted-tbn0.gstatic.com/images?q=tbn:ANd9GcRI_TyIuM4OrDDepehZEN07dgNk3GXXV8FRxg&usqp=CAU - as ./images\\ladders_yard\\1be9c851bc.jpg\n",
      "SUCCESS - saved https://i.pinimg.com/736x/09/62/7a/09627a14555901e940c34d7432e86462.jpg - as ./images\\ladders_yard\\cc081e0de8.jpg\n",
      "SUCCESS - saved https://encrypted-tbn0.gstatic.com/images?q=tbn:ANd9GcSf-GwLFmzpLEgzvktYYeBbYxoD65ls90Je4A&usqp=CAU - as ./images\\ladders_yard\\bf0f60ff1d.jpg\n",
      "SUCCESS - saved https://images-na.ssl-images-amazon.com/images/I/61LgFtqlitL._AC_SL1500_.jpg - as ./images\\ladders_yard\\35e280008f.jpg\n",
      "SUCCESS - saved https://i5.walmartimages.com/asr/d68596c8-551a-44a0-af28-04b864662733_1.a3c5d742cb8ada7b36b39519c7d9fc39.jpeg?odnWidth=612&odnHeight=612&odnBg=ffffff - as ./images\\ladders_yard\\77b61be58e.jpg\n",
      "SUCCESS - saved https://www.momtastic.com/assets/uploads/2014/06/IMG_3684.jpg - as ./images\\ladders_yard\\c83efca63f.jpg\n",
      "SUCCESS - saved https://empressofdirt.net/wp-content/uploads/C9-Garden-Art-Ladders-Idea-Gallery-v1.jpg - as ./images\\ladders_yard\\eeb2997d01.jpg\n",
      "SUCCESS - saved https://encrypted-tbn0.gstatic.com/images?q=tbn:ANd9GcSr87hALnyYOAFCEb6FZGSWgI-1tIPPO2t7UA&usqp=CAU - as ./images\\ladders_yard\\02af39674c.jpg\n",
      "SUCCESS - saved https://www.thespruce.com/thmb/rDhonwqiQ7Z_aNxnC6q2ackc4ts=/400x300/filters:no_upscale():max_bytes(150000):strip_icc()/Cosco_Ladder_WorldsGreatestMultiPosition21FootLadder_HeroHoriz-a46d99436bf049ef93b5627d5a10cbc2.jpg - as ./images\\ladders_yard\\7bedb638d3.jpg\n",
      "SUCCESS - saved https://www.decorhomeideas.com/wp-content/uploads/2020/08/best-vintage-garden-decor-ideas.jpg - as ./images\\ladders_yard\\d8b5228c63.jpg\n",
      "SUCCESS - saved https://i0.wp.com/mydesiredhome.com/wp-content/uploads/2019/05/Farmhouse-DIY-garden-decoration-with-old-wooden-ladders-5.jpg?resize=550%2C733&ssl=1 - as ./images\\ladders_yard\\ca4c2ee093.jpg\n",
      "SUCCESS - saved https://www.stinehome.com/dw/image/v2/BDFG_PRD/on/demandware.static/-/Sites-stine-products/default/dwc319a61e/images/l/o/louisville_louisville_fs2006_fiberglass_step_ladder_1.jpg?sw=450&sh=450&sm=fit - as ./images\\ladders_yard\\cc22a8b9c1.jpg\n",
      "ERROR - Could not save https://balconygardenweb-lhnfx0beomqvnhspx.netdna-ssl.com/wp-content/uploads/2018/04/ladder-uses-in-the-garden10.jpg - cannot identify image file <_io.BytesIO object at 0x000002C524CEE408>\n",
      "SUCCESS - saved https://encrypted-tbn0.gstatic.com/images?q=tbn:ANd9GcSFPpLzGh-0V61W0iJq-W8I3IW35eMBD2sshA&usqp=CAU - as ./images\\ladders_yard\\1f9b89287c.jpg\n",
      "SUCCESS - saved https://encrypted-tbn0.gstatic.com/images?q=tbn:ANd9GcTxQEupgDln4v3aBXuhuWmBUxCriS4_ndN58w&usqp=CAU - as ./images\\ladders_yard\\1a4d897113.jpg\n",
      "SUCCESS - saved https://encrypted-tbn0.gstatic.com/images?q=tbn:ANd9GcQmZJDLWGhd9HY4IzNyhS4j0RykSq6oxunkJQ&usqp=CAU - as ./images\\ladders_yard\\b68202ed60.jpg\n",
      "SUCCESS - saved https://encrypted-tbn0.gstatic.com/images?q=tbn:ANd9GcR3cKCrhPKF3d1qM7e2KIEPwR0A1N3GdUoQfw&usqp=CAU - as ./images\\ladders_yard\\bf88e7059b.jpg\n",
      "SUCCESS - saved https://www.houseofhawthornes.com/wp-content/uploads/2016/03/Wooden-Ladder-Our-Fairfield-Home-And-Gardens.jpg - as ./images\\ladders_yard\\f100ebff98.jpg\n",
      "SUCCESS - saved https://encrypted-tbn0.gstatic.com/images?q=tbn:ANd9GcR7hM1RTwO51V7igevuA1bv-xPcGJBAULzQpA&usqp=CAU - as ./images\\ladders_yard\\25d8bdb6a5.jpg\n",
      "SUCCESS - saved https://encrypted-tbn0.gstatic.com/images?q=tbn:ANd9GcSJFJs9kzliTqtUXC1Uwre4R-clcQ4QhQa1tA&usqp=CAU - as ./images\\ladders_yard\\3293572ec1.jpg\n",
      "SUCCESS - saved https://i2.wp.com/theverybesttop10.com/wp-content/uploads/2019/10/Ten-Amazing-Things-You-Can-Make-With-Old-Metal-Ladders-6.jpg?resize=600%2C600&ssl=1 - as ./images\\ladders_yard\\0ef4ebbef2.jpg\n",
      "SUCCESS - saved https://www.thehandmadehome.net/wp-content/uploads/2017/06/handmade_hideaway2.2.jpg - as ./images\\ladders_yard\\7278365b13.jpg\n",
      "SUCCESS - saved https://i.pinimg.com/originals/23/29/ce/2329ce6bbf282a7cbcd7a0d7e8724bf7.jpg - as ./images\\ladders_yard\\d640cb5054.jpg\n",
      "SUCCESS - saved https://encrypted-tbn0.gstatic.com/images?q=tbn:ANd9GcSv2oYDqdw-8AEiX8enrJiGn1ueZErfj7CLNQ&usqp=CAU - as ./images\\ladders_yard\\cc8058940a.jpg\n",
      "SUCCESS - saved https://encrypted-tbn0.gstatic.com/images?q=tbn:ANd9GcQVE44Z-O-Tou8guXwT0CVnxLC1eQee10iWqA&usqp=CAU - as ./images\\ladders_yard\\a1a6f78223.jpg\n",
      "SUCCESS - saved https://static-cdn.oescoinc.com/magento/media/cms/hasegawa/hasegawa08resize-min.jpg - as ./images\\ladders_yard\\4fdf546bf1.jpg\n",
      "SUCCESS - saved https://www.houseofhawthornes.com/wp-content/uploads/2016/03/Wooden-Ladder-Garden-Art-2004.jpg - as ./images\\ladders_yard\\e80586b95a.jpg\n",
      "SUCCESS - saved https://encrypted-tbn0.gstatic.com/images?q=tbn:ANd9GcRmXj3OLQFGsE3WVwMelhiNjB2bXcUnyf2rLQ&usqp=CAU - as ./images\\ladders_yard\\d633acadf8.jpg\n",
      "SUCCESS - saved https://c8.alamy.com/comp/CB4TCT/stack-of-aluminium-ladders-at-garden-center-builders-yard-france-CB4TCT.jpg - as ./images\\ladders_yard\\e652467181.jpg\n",
      "SUCCESS - saved https://encrypted-tbn0.gstatic.com/images?q=tbn:ANd9GcS2wQL3O86Akvm5XmwwiS_V5VKfMwO7KBGh-g&usqp=CAU - as ./images\\ladders_yard\\b1695afd58.jpg\n",
      "SUCCESS - saved https://encrypted-tbn0.gstatic.com/images?q=tbn:ANd9GcTR0R63v0ngCIcVW7vjLtM2kU6g2QODkEs6nA&usqp=CAU - as ./images\\ladders_yard\\285c88bf59.jpg\n",
      "SUCCESS - saved https://www.tomatocages.org/img/red-tomato-ladder.jpg - as ./images\\ladders_yard\\947a49c0b4.jpg\n",
      "SUCCESS - saved https://www.architectureartdesigns.com/wp-content/uploads/2017/03/14-25.jpg - as ./images\\ladders_yard\\86d31886f8.jpg\n"
     ]
    },
    {
     "name": "stdout",
     "output_type": "stream",
     "text": [
      "SUCCESS - saved https://1.bp.blogspot.com/-BZPA7SWMvjM/Wo6ycn7gQmI/AAAAAAAAyQQ/WtNRC15zSYUcUIlP6D-iGm-HUfDqbXC1QCLcBGAs/s1600/IMG_5044.JPG - as ./images\\ladders_yard\\2c8628a383.jpg\n",
      "SUCCESS - saved https://encrypted-tbn0.gstatic.com/images?q=tbn:ANd9GcRE3NsU3Wp5sXevZhL03nNuBgGR5xZCCUsWrw&usqp=CAU - as ./images\\ladders_yard\\08f25f1098.jpg\n",
      "SUCCESS - saved https://www.houseofhawthornes.com/wp-content/uploads/2016/03/Ladders-In-The-Garden.jpg - as ./images\\ladders_yard\\5dbb7120cb.jpg\n",
      "ERROR - Could not save https://www.fleamarketgardening.org/wp-content/uploads/2015/04/Annie-Downss-rustic-garden-ladder.jpg?e768a3 - cannot identify image file <_io.BytesIO object at 0x000002C5248B9F48>\n",
      "SUCCESS - saved https://cdn.thewirecutter.com/wp-content/uploads/2017/08/ladders-0083-little-giant-select-step-630.jpg - as ./images\\ladders_yard\\28b7213590.jpg\n",
      "SUCCESS - saved https://encrypted-tbn0.gstatic.com/images?q=tbn:ANd9GcRdIZsBVW4852TouhBbvse0UUQJd1tjYk2fpw&usqp=CAU - as ./images\\ladders_yard\\ac48ed0cc7.jpg\n",
      "SUCCESS - saved https://encrypted-tbn0.gstatic.com/images?q=tbn:ANd9GcTK9NZ3x0Riuc_tGpLr5eG_B4CfM4nCkKP2lQ&usqp=CAU - as ./images\\ladders_yard\\c7d7cb4660.jpg\n",
      "SUCCESS - saved https://ourfairfieldhomeandgarden.com/wp-content/uploads/2014/06/step-stool-birdbath.jpg - as ./images\\ladders_yard\\6c56e85719.jpg\n",
      "SUCCESS - saved https://encrypted-tbn0.gstatic.com/images?q=tbn:ANd9GcRCOK4iPC9xPN9Z-6-JA7ktUAFNgy1mgpueYQ&usqp=CAU - as ./images\\ladders_yard\\e9c5d1a398.jpg\n",
      "SUCCESS - saved https://www.upcycled-wonders.com/wp-content/uploads/2015/07/old-upcycled-ladder-shelves-with-plant-pots-backyard-decorating-ideas.jpg - as ./images\\ladders_yard\\6f8b4c5217.jpg\n",
      "SUCCESS - saved https://encrypted-tbn0.gstatic.com/images?q=tbn:ANd9GcR694HjIg3YebiYWb_pMplWtvTkFVYkTcczpA&usqp=CAU - as ./images\\ladders_yard\\c17b206a63.jpg\n",
      "SUCCESS - saved https://encrypted-tbn0.gstatic.com/images?q=tbn:ANd9GcTWWU0KiLmp5qcTfusMpltsMuD6zlcA2KMuww&usqp=CAU - as ./images\\ladders_yard\\b6885d4b4f.jpg\n",
      "SUCCESS - saved https://cdn.shopify.com/s/files/1/1395/8847/articles/ladder-golf-history_1200x.jpg?v=1496333278 - as ./images\\ladders_yard\\d97fca4573.jpg\n",
      "SUCCESS - saved https://encrypted-tbn0.gstatic.com/images?q=tbn:ANd9GcRyHQkM3-WCz10c5PgJn7kIypOP6W-9MzV8TA&usqp=CAU - as ./images\\ladders_yard\\c0e3c3fd8f.jpg\n",
      "SUCCESS - saved https://i1.wp.com/mydesiredhome.com/wp-content/uploads/2019/02/DIY-ladder-flower-stands.jpg?fit=810%2C460&ssl=1 - as ./images\\ladders_yard\\cd10ce658a.jpg\n",
      "SUCCESS - saved https://encrypted-tbn0.gstatic.com/images?q=tbn:ANd9GcQfd2De-EzPvz6XvBI-JGViyyxjHP2hsEWQ3g&usqp=CAU - as ./images\\ladders_yard\\21d9a67481.jpg\n",
      "SUCCESS - saved https://encrypted-tbn0.gstatic.com/images?q=tbn:ANd9GcTYWI_QZVTGeiC-nM1kxzY6kz4b2V0ued9anw&usqp=CAU - as ./images\\ladders_yard\\58486f4371.jpg\n",
      "SUCCESS - saved https://www.stinehome.com/dw/image/v2/BDFG_PRD/on/demandware.static/-/Sites-stine-products/default/dw9bbd69f0/images/l/o/louisville_louisville_fs1508_fiberglass_step_ladder.jpg?sw=450&sh=450&sm=fit - as ./images\\ladders_yard\\1a6e800aa1.jpg\n",
      "SUCCESS - saved https://images-na.ssl-images-amazon.com/images/I/71ONyFUVl9L._AC_SL1001_.jpg - as ./images\\ladders_yard\\1f53bc3bf2.jpg\n",
      "SUCCESS - saved https://encrypted-tbn0.gstatic.com/images?q=tbn:ANd9GcSEsHyj-9X4mKtbbNtVw59weJJNg02AR1SZkA&usqp=CAU - as ./images\\ladders_yard\\7cf64cedc6.jpg\n",
      "SUCCESS - saved https://encrypted-tbn0.gstatic.com/images?q=tbn:ANd9GcTF2FDOv9lGODNXqORxbYoPmW8HtOXWdyPK5g&usqp=CAU - as ./images\\ladders_yard\\5ecf1b666a.jpg\n",
      "ERROR - Could not save https://www.chainsawjournal.com/wp-content/uploads/2016/06/types-of-ladders-feature-image.jpg - cannot identify image file <_io.BytesIO object at 0x000002C524DCD0A8>\n",
      "SUCCESS - saved https://garden.org/pics/2012-12-10/Xeramtheum/ac8443.jpg - as ./images\\ladders_yard\\bdfa336758.jpg\n",
      "ERROR - Could not save https://mosquitohunters.com/wp-content/uploads/2019/03/Ladderball-4.jpg - cannot identify image file <_io.BytesIO object at 0x000002C524B565E8>\n",
      "SUCCESS - saved https://encrypted-tbn0.gstatic.com/images?q=tbn:ANd9GcQHYFRo35K3jDXSpTPBR1GwIZJiF6QwNZRxlw&usqp=CAU - as ./images\\ladders_yard\\fc1979c3a3.jpg\n",
      "SUCCESS - saved https://encrypted-tbn0.gstatic.com/images?q=tbn:ANd9GcRifdSijdPK078c9PhE19kmbiqdCD2Y87qHsA&usqp=CAU - as ./images\\ladders_yard\\9ab0dc1deb.jpg\n",
      "SUCCESS - saved https://i.pinimg.com/originals/99/82/68/9982686ed1467f1131ff56201b69c4a1.jpg - as ./images\\ladders_yard\\b67e0e58e3.jpg\n",
      "SUCCESS - saved https://encrypted-tbn0.gstatic.com/images?q=tbn:ANd9GcSmy_e_J2KZYGFvxtqasyj8o3lMv8CETIVVtw&usqp=CAU - as ./images\\ladders_yard\\8bdc699d65.jpg\n",
      "SUCCESS - saved https://encrypted-tbn0.gstatic.com/images?q=tbn:ANd9GcSvrjJKF_Q2LAGBUphfCKHpsTTB9D7LowWEFQ&usqp=CAU - as ./images\\ladders_yard\\ed1313de4b.jpg\n",
      "SUCCESS - saved https://encrypted-tbn0.gstatic.com/images?q=tbn:ANd9GcSItsDnr8nBxyN1mpGw-D678Fwa-Q2J1BomSA&usqp=CAU - as ./images\\ladders_yard\\6ab97c11c6.jpg\n",
      "SUCCESS - saved https://encrypted-tbn0.gstatic.com/images?q=tbn:ANd9GcQW81cNHVR3pa0dGDMLwJEaOkgFmvMeXJvncA&usqp=CAU - as ./images\\ladders_yard\\b9b7474133.jpg\n",
      "SUCCESS - saved https://www.simplebites.net/wp-content/uploads/2013/05/ladder-front-1.jpg - as ./images\\ladders_yard\\49351c6b9b.jpg\n",
      "SUCCESS - saved https://encrypted-tbn0.gstatic.com/images?q=tbn:ANd9GcRdxwVreCe1zh0S8NZfBQVwWK0TS-nKqXAlXg&usqp=CAU - as ./images\\ladders_yard\\9e5c9f2791.jpg\n",
      "SUCCESS - saved https://cdn.vox-cdn.com/thumbor/ESnWnhSGnr35WiniL72JrI3CPDs=/0x82:1400x815/fit-in/1200x630/cdn.vox-cdn.com/uploads/chorus_asset/file/19513313/ladder_safety_x_1.jpg - as ./images\\ladders_yard\\d692627a9c.jpg\n",
      "SUCCESS - saved https://www.trainboard.com/railimages/data/500/ladders.gif - as ./images\\ladders_yard\\476e0f2b89.jpg\n",
      "SUCCESS - saved https://i0.wp.com/theverybesttop10.com/wp-content/uploads/2016/01/Top-10-Ways-To-Recycle-and-Reuse-Ladders-6.jpg?fit=500%2C500&ssl=1 - as ./images\\ladders_yard\\cc8a261ab5.jpg\n",
      "SUCCESS - saved https://storage.googleapis.com/thdblog-media/wp-content/uploads/LibertyHardware_PatioMakeOver_1.jpg - as ./images\\ladders_yard\\d76e1f6752.jpg\n",
      "SUCCESS - saved https://encrypted-tbn0.gstatic.com/images?q=tbn:ANd9GcR-mraU9r32KqYbAxwYDdm-aJXAptcmiU0fdQ&usqp=CAU - as ./images\\ladders_yard\\4077695848.jpg\n",
      "SUCCESS - saved https://encrypted-tbn0.gstatic.com/images?q=tbn:ANd9GcQvHG15GP1BKy7cDkrGIOj5O-bqr4kxzmULpQ&usqp=CAU - as ./images\\ladders_yard\\f5e162ed14.jpg\n",
      "SUCCESS - saved https://encrypted-tbn0.gstatic.com/images?q=tbn:ANd9GcQ_mD7YW33N0t7Dne5R2jGS_-fTjQz8U6Us_Q&usqp=CAU - as ./images\\ladders_yard\\7c95defc62.jpg\n",
      "SUCCESS - saved https://www.artnet.com/WebServices/images/ll00233lld5SaFFgPNECfDrCWvaHBOcSSF/stanley-spencer-ladders-in-a-yard.jpg - as ./images\\ladders_yard\\a37b69bf77.jpg\n",
      "SUCCESS - saved https://images.immediate.co.uk/production/volatile/sites/18/2018/07/AIO180_EDIT-0b09269.jpg?quality=90&crop=5px%2C810px%2C1510px%2C650px&resize=960%2C408 - as ./images\\ladders_yard\\7558f156fe.jpg\n",
      "SUCCESS - saved https://encrypted-tbn0.gstatic.com/images?q=tbn:ANd9GcQ4qTPiKBpqtyBk0gNEfrFEvIVhy-28zC4pCQ&usqp=CAU - as ./images\\ladders_yard\\10c9f8dd6e.jpg\n",
      "SUCCESS - saved https://encrypted-tbn0.gstatic.com/images?q=tbn:ANd9GcQzNKh4s9C6MrhnWbWU8hO4xVaq8k2__2ZsSQ&usqp=CAU - as ./images\\ladders_yard\\911bbcbe4a.jpg\n",
      "SUCCESS - saved https://i2.wp.com/www.fleamarketgardening.org/wp-content/uploads/2013/01/Ladders-Di-Ellen-Davenport1.jpg?ssl=1 - as ./images\\ladders_yard\\f366045d44.jpg\n",
      "SUCCESS - saved https://encrypted-tbn0.gstatic.com/images?q=tbn:ANd9GcQRJPs3WY0jLx6NJgSYKce17LiQuHQL7QH5Bg&usqp=CAU - as ./images\\ladders_yard\\aa896ae5af.jpg\n",
      "SUCCESS - saved https://empressofdirt.net/wp-content/uploads/Wood-ladder-garden-art-v1.jpg - as ./images\\ladders_yard\\3765e93465.jpg\n",
      "SUCCESS - saved https://www.diyscoop.com/wp-content/uploads/2015/03/ladders-featured.jpg - as ./images\\ladders_yard\\3a55cace1f.jpg\n",
      "SUCCESS - saved https://encrypted-tbn0.gstatic.com/images?q=tbn:ANd9GcRrk9r0GLRUB-4IoHh8iGiuFx4sfBIqN8kkPw&usqp=CAU - as ./images\\ladders_yard\\89f729529e.jpg\n",
      "SUCCESS - saved https://encrypted-tbn0.gstatic.com/images?q=tbn:ANd9GcSBc3RE6V8ALd_loiEV9AkIOcyBf6q25EtBSw&usqp=CAU - as ./images\\ladders_yard\\195728e27e.jpg\n",
      "SUCCESS - saved https://2.bp.blogspot.com/-OEcuik7MZ38/TksQzy1fNHI/AAAAAAAAANc/hPs2z7DiPco/s1600/IMG_6183.JPG - as ./images\\ladders_yard\\c95d40fbb5.jpg\n",
      "SUCCESS - saved https://encrypted-tbn0.gstatic.com/images?q=tbn:ANd9GcQmtqHKPim_Z_4lBPAD50hXGo_zGonrTOLn7g&usqp=CAU - as ./images\\ladders_yard\\29319d7c74.jpg\n"
     ]
    },
    {
     "name": "stdout",
     "output_type": "stream",
     "text": [
      "SUCCESS - saved https://cdn-fastly.hometalk.com/media/aa1jct1r8nds833oun2951d0d6661e5ef.jpg?size=720x845&nocrop=1 - as ./images\\ladders_yard\\fe60eb4fd4.jpg\n",
      "SUCCESS - saved https://encrypted-tbn0.gstatic.com/images?q=tbn:ANd9GcQ0k_O7IxX6viJ33tL9krBHigPc-mNADSYKJg&usqp=CAU - as ./images\\ladders_yard\\db387d3b13.jpg\n",
      "SUCCESS - saved https://cdn.thewirecutter.com/wp-content/uploads/2017/08/ladders-0085-gorilla-glf-5x-fiberglass-hybrid-630.jpg - as ./images\\ladders_yard\\5afbc420fa.jpg\n",
      "SUCCESS - saved https://i.ytimg.com/vi/jaDEO0WUPPU/maxresdefault.jpg - as ./images\\ladders_yard\\52dc502dd6.jpg\n",
      "SUCCESS - saved https://encrypted-tbn0.gstatic.com/images?q=tbn:ANd9GcTNf5JLD7GviGm2nk6dASTd3cgWmpRpR6JMLg&usqp=CAU - as ./images\\ladders_yard\\8b19621511.jpg\n",
      "SUCCESS - saved https://images-na.ssl-images-amazon.com/images/I/51vZCKuHLML._AC_SX466_.jpg - as ./images\\ladders_yard\\10489cef0c.jpg\n",
      "SUCCESS - saved https://upload.wikimedia.org/wikipedia/commons/f/f0/Ladder_Golf%2C_Homerville.JPG - as ./images\\ladders_yard\\13b2625a24.jpg\n",
      "SUCCESS - saved https://encrypted-tbn0.gstatic.com/images?q=tbn:ANd9GcT9VDYVmputNMGaLzBuxgcJSHQ-ryd47hdxxg&usqp=CAU - as ./images\\ladders_yard\\23cc253979.jpg\n",
      "SUCCESS - saved https://encrypted-tbn0.gstatic.com/images?q=tbn:ANd9GcSw8FFTdw1hJjHEUWVsiR6pzXCqoGb4KZCjcg&usqp=CAU - as ./images\\ladders_yard\\1175ce8c84.jpg\n",
      "SUCCESS - saved https://encrypted-tbn0.gstatic.com/images?q=tbn:ANd9GcQluJB3CxxiEyK96Epz6dbLRr_AkVG0Wq3GyQ&usqp=CAU - as ./images\\ladders_yard\\a19fdb803c.jpg\n",
      "SUCCESS - saved https://encrypted-tbn0.gstatic.com/images?q=tbn:ANd9GcRvBvc9N-R2m688yMGCGg2TfzgQ7Pg5LqI9Mw&usqp=CAU - as ./images\\ladders_yard\\9c425d8f71.jpg\n",
      "SUCCESS - saved https://acultivatednest.com/wp-content/uploads/2012/01/roundup-of-ways-to-upcycle-old-ladders.jpg - as ./images\\ladders_yard\\f655b60b10.jpg\n",
      "SUCCESS - saved https://lovegrowswild.com/wp-content/uploads/2015/04/Antique-Ladder-Shelf-final.jpg - as ./images\\ladders_yard\\e538d82ac1.jpg\n",
      "SUCCESS - saved https://encrypted-tbn0.gstatic.com/images?q=tbn:ANd9GcSDdcHYVpRB6FbN03scjIAxI8Sm0r3pAVoBcg&usqp=CAU - as ./images\\ladders_yard\\5f457a2202.jpg\n",
      "SUCCESS - saved https://image.shutterstock.com/image-photo/wooden-beams-red-ladders-yard-600w-1178961991.jpg - as ./images\\ladders_yard\\d6e61f7f3c.jpg\n",
      "SUCCESS - saved https://hearthookhome.com/wp-content/uploads/2016/10/one-foot-spaces.png - as ./images\\ladders_yard\\74c1be3e96.jpg\n",
      "SUCCESS - saved https://d3926qxcw0e1bh.cloudfront.net/business_gallery/c2/7e/c27efe6a2a16668ba1d3938f558f027b.jpg.smartcrop546x546.jpg - as ./images\\ladders_yard\\405f517e94.jpg\n",
      "SUCCESS - saved https://encrypted-tbn0.gstatic.com/images?q=tbn:ANd9GcTm55k8IH-izNb953fmTaB2A1x0KqcAn819fQ&usqp=CAU - as ./images\\ladders_yard\\7dc1b5698f.jpg\n",
      "SUCCESS - saved https://encrypted-tbn0.gstatic.com/images?q=tbn:ANd9GcR1tol1AFyTNUXcNSOw-6jUmI8kNX_fn8_amA&usqp=CAU - as ./images\\ladders_yard\\1be1dee370.jpg\n",
      "SUCCESS - saved https://ourfairfieldhomeandgarden.com/wp-content/uploads/2014/06/PicMonkey-Collage-Garden-Ladders-393x1024.jpg - as ./images\\ladders_yard\\f410b83c12.jpg\n",
      "SUCCESS - saved https://encrypted-tbn0.gstatic.com/images?q=tbn:ANd9GcRsCBHjmQH5lNgDYRjO9vTSXMOYUWsKfaHiWA&usqp=CAU - as ./images\\ladders_yard\\04b4ea5073.jpg\n",
      "SUCCESS - saved https://welchwrite.com/agn/wp-content/uploads/2013/06/garden-ladder.jpg - as ./images\\ladders_yard\\0664b595b9.jpg\n",
      "SUCCESS - saved https://growinginthegarden.com/wp-content/uploads/2018/05/tips-for-using-ladders-in-the-garden-1-488x1024.png - as ./images\\ladders_yard\\6000153b0d.jpg\n",
      "SUCCESS - saved https://encrypted-tbn0.gstatic.com/images?q=tbn:ANd9GcQzS97DfOFRZ8CIi4pcUts3LwduqErdC5G98w&usqp=CAU - as ./images\\ladders_yard\\f55f7637b7.jpg\n",
      "SUCCESS - saved https://encrypted-tbn0.gstatic.com/images?q=tbn:ANd9GcTVssAw0LHd3z1YqhAAsheFOGQ5cHLdcIpMqw&usqp=CAU - as ./images\\ladders_yard\\75799a81ea.jpg\n",
      "SUCCESS - saved https://i.pinimg.com/originals/1a/b1/ee/1ab1eea3f0281724f398d16bf7744afd.jpg - as ./images\\ladders_yard\\37b120fe0b.jpg\n",
      "SUCCESS - saved https://encrypted-tbn0.gstatic.com/images?q=tbn:ANd9GcRyeXAjAyBd02YRVZn-MBFmgv2pR8OUEx2Hdw&usqp=CAU - as ./images\\ladders_yard\\064b74c27f.jpg\n",
      "SUCCESS - saved https://dsgmedia.blob.core.windows.net/pub/2018/06/LADDERBALL.jpg - as ./images\\ladders_yard\\ba274b26db.jpg\n",
      "SUCCESS - saved https://i0.wp.com/www.fleamarketgardening.org/wp-content/uploads/2013/01/Christine-Cross-ladders1.jpg?ssl=1 - as ./images\\ladders_yard\\95a2232760.jpg\n",
      "SUCCESS - saved https://imagesvc.meredithcorp.io/v3/mm/image?url=https%3A%2F%2Fstatic.onecms.io%2Fwp-content%2Fuploads%2Fsites%2F37%2F2017%2F10%2F15233612%2F101780371.jpg&q=85 - as ./images\\ladders_yard\\923f686bbd.jpg\n",
      "SUCCESS - saved https://www.whiteflowerfarm.com/mas_assets/cache/image/5/7/d/c/22492.Jpg - as ./images\\ladders_yard\\a6420deba7.jpg\n",
      "SUCCESS - saved https://growinginthegarden.com/wp-content/uploads/2018/05/Ladders-in-the-Garden-verticalgardening-verticalgarden-rustic-antique-repurpose-reuse-gardening-ladder-8-1.png - as ./images\\ladders_yard\\762fe577cc.jpg\n",
      "SUCCESS - saved https://i.pinimg.com/originals/75/78/2d/75782def00d58404d3fd59ae68334e4e.jpg - as ./images\\ladders_yard\\58876bfede.jpg\n",
      "SUCCESS - saved https://www.architectureartdesigns.com/wp-content/uploads/2017/03/13-24.jpg - as ./images\\ladders_yard\\d1c1ad23e1.jpg\n",
      "SUCCESS - saved https://i.pinimg.com/originals/46/79/e7/4679e7602e5bdbaf5aeb5a128476fae0.jpg - as ./images\\ladders_yard\\ab9e8e5665.jpg\n",
      "SUCCESS - saved https://encrypted-tbn0.gstatic.com/images?q=tbn:ANd9GcR-vjCZswDuVnlLo2mI7Yg7T9-c7K5_I3k4bQ&usqp=CAU - as ./images\\ladders_yard\\c2711890fb.jpg\n",
      "SUCCESS - saved https://encrypted-tbn0.gstatic.com/images?q=tbn:ANd9GcRzxyptKUnoG4xdId_Z3FPp8W5BbKqWMIsKzg&usqp=CAU - as ./images\\ladders_yard\\156a41f459.jpg\n",
      "SUCCESS - saved https://2.bp.blogspot.com/-h4BEHRkn-w8/Wo6yQS9LRHI/AAAAAAAAyQM/GV5sTQua1ygRmkumxuFJFXHB4qiiTyycwCLcBGAs/s640/IMG_4625.jpg - as ./images\\ladders_yard\\c038c401bf.jpg\n",
      "SUCCESS - saved https://c8.alamy.com/comp/WRP0YN/chenies-manor-topiary-garden-with-garden-maintenance-in-progresswheelbarrow-and-ladders-are-in-use-on-the-lawn-WRP0YN.jpg - as ./images\\ladders_yard\\4e8dc20a4d.jpg\n",
      "SUCCESS - saved https://encrypted-tbn0.gstatic.com/images?q=tbn:ANd9GcRxETpmUmhzKOftrJBfjFTlTKx9fc6vunWFtw&usqp=CAU - as ./images\\ladders_yard\\7d6ecb193c.jpg\n",
      "SUCCESS - saved https://encrypted-tbn0.gstatic.com/images?q=tbn:ANd9GcQYpxzS7ZKAbbsbb_7MyN9iaa3WxA-vigZvsQ&usqp=CAU - as ./images\\ladders_yard\\2a2fdf9a0c.jpg\n",
      "ERROR - Could not save https://www.fleamarketgardening.org/wp-content/uploads/2015/04/Heather-Randalls-roadside-treasure.jpg?e768a3 - cannot identify image file <_io.BytesIO object at 0x000002C525E731C8>\n",
      "SUCCESS - saved https://encrypted-tbn0.gstatic.com/images?q=tbn:ANd9GcSM5a5kp9JfdEkLHxsLxzYW01CoctxHL5x8Kw&usqp=CAU - as ./images\\ladders_yard\\dfe35d07a8.jpg\n",
      "ERROR - Could not save https://sunsetladder.com/blog/wp-content/uploads/2018/10/Tripod-Ladders-702x390.jpg - cannot identify image file <_io.BytesIO object at 0x000002C525E732E8>\n",
      "SUCCESS - saved https://encrypted-tbn0.gstatic.com/images?q=tbn:ANd9GcTxgQZx8HwSFCuNKqEuf3eSJqjwm2FeRuJvCw&usqp=CAU - as ./images\\ladders_yard\\ff23b9874a.jpg\n",
      "SUCCESS - saved https://encrypted-tbn0.gstatic.com/images?q=tbn:ANd9GcQzmboFky-W660EBHK-n7h0XIvD9-jcASti0g&usqp=CAU - as ./images\\ladders_yard\\5bda4cee3d.jpg\n",
      "SUCCESS - saved https://encrypted-tbn0.gstatic.com/images?q=tbn:ANd9GcT1IF1YGjZA9R1x6bSRoT6rMTEyURSfAe9URg&usqp=CAU - as ./images\\ladders_yard\\7d6ae08578.jpg\n",
      "SUCCESS - saved https://empressofdirt.net/wp-content/uploads/Plain-wood-ladder-garden-art-1.jpg - as ./images\\ladders_yard\\eef04863cd.jpg\n",
      "SUCCESS - saved https://encrypted-tbn0.gstatic.com/images?q=tbn:ANd9GcQztkYzlDkI4rRf8wIaF3bznaAYty00TuEOFQ&usqp=CAU - as ./images\\ladders_yard\\b7a2c635a8.jpg\n"
     ]
    }
   ],
   "source": [
    "search_term = \"ladders yard\"\n",
    "search_and_download(search_term,DRIVER_PATH,target_path='./images',number_images=150)"
   ]
  },
  {
   "cell_type": "markdown",
   "metadata": {},
   "source": [
    "## rename"
   ]
  },
  {
   "cell_type": "code",
   "execution_count": null,
   "metadata": {},
   "outputs": [],
   "source": []
  },
  {
   "cell_type": "code",
   "execution_count": 26,
   "metadata": {},
   "outputs": [],
   "source": [
    "path = \"yolov4/darknet/images/ladders_yard/\"\n",
    "for count, filename in enumerate(os.listdir(path)): \n",
    "    src = path+filename\n",
    "    dst = str(count)+\".jpg\"\n",
    "    dst = path+dst\n",
    "    os.rename(src,dst)"
   ]
  },
  {
   "cell_type": "code",
   "execution_count": null,
   "metadata": {},
   "outputs": [],
   "source": [
    "dst =\"Hostel\" + str(count) + \".jpg\"\n",
    "        src ='xyz'+ filename \n",
    "        dst ='xyz'+ dst \n",
    "          \n",
    "        # rename() function will \n",
    "        # rename all the files \n",
    "        os.rename(src, dst) "
   ]
  },
  {
   "cell_type": "code",
   "execution_count": 27,
   "metadata": {},
   "outputs": [
    {
     "data": {
      "text/plain": [
       "['0.jpg',\n",
       " '0.txt',\n",
       " '1.jpg',\n",
       " '1.txt',\n",
       " '10.jpg',\n",
       " '10.txt',\n",
       " '100.jpg',\n",
       " '101.jpg',\n",
       " '102.jpg',\n",
       " '102.txt',\n",
       " '103.jpg',\n",
       " '104.jpg',\n",
       " '104.txt',\n",
       " '105.jpg',\n",
       " '106.jpg',\n",
       " '106.txt',\n",
       " '107.jpg',\n",
       " '107.txt',\n",
       " '108.jpg',\n",
       " '108.txt',\n",
       " '109.jpg',\n",
       " '109.txt',\n",
       " '11.jpg',\n",
       " '11.txt',\n",
       " '110.jpg',\n",
       " '110.txt',\n",
       " '111.jpg',\n",
       " '111.txt',\n",
       " '112.jpg',\n",
       " '112.txt',\n",
       " '113.jpg',\n",
       " '113.txt',\n",
       " '114.jpg',\n",
       " '114.txt',\n",
       " '115.jpg',\n",
       " '115.txt',\n",
       " '116.jpg',\n",
       " '116.txt',\n",
       " '117.jpg',\n",
       " '117.txt',\n",
       " '118.jpg',\n",
       " '118.txt',\n",
       " '119.jpg',\n",
       " '12.jpg',\n",
       " '12.txt',\n",
       " '120.jpg',\n",
       " '120.txt',\n",
       " '121.jpg',\n",
       " '121.txt',\n",
       " '122.jpg',\n",
       " '122.txt',\n",
       " '123.jpg',\n",
       " '123.txt',\n",
       " '124.jpg',\n",
       " '124.txt',\n",
       " '125.jpg',\n",
       " '125.txt',\n",
       " '126.jpg',\n",
       " '126.txt',\n",
       " '127.jpg',\n",
       " '128.jpg',\n",
       " '128.txt',\n",
       " '129.jpg',\n",
       " '129.txt',\n",
       " '13.jpg',\n",
       " '13.txt',\n",
       " '130.jpg',\n",
       " '130.txt',\n",
       " '131.jpg',\n",
       " '131.txt',\n",
       " '132.jpg',\n",
       " '132.txt',\n",
       " '133.jpg',\n",
       " '133.txt',\n",
       " '134.jpg',\n",
       " '134.txt',\n",
       " '135.jpg',\n",
       " '135.txt',\n",
       " '136.jpg',\n",
       " '136.txt',\n",
       " '137.jpg',\n",
       " '137.txt',\n",
       " '138.jpg',\n",
       " '138.txt',\n",
       " '139.jpg',\n",
       " '139.txt',\n",
       " '14.jpg',\n",
       " '14.txt',\n",
       " '140.jpg',\n",
       " '140.txt',\n",
       " '141.jpg',\n",
       " '141.txt',\n",
       " '142.jpg',\n",
       " '142.txt',\n",
       " '143.jpg',\n",
       " '143.txt',\n",
       " '144.jpg',\n",
       " '144.txt',\n",
       " '145.jpg',\n",
       " '145.txt',\n",
       " '146.jpg',\n",
       " '146.txt',\n",
       " '147.jpg',\n",
       " '147.txt',\n",
       " '148.jpg',\n",
       " '148.txt',\n",
       " '149.jpg',\n",
       " '149.txt',\n",
       " '15.jpg',\n",
       " '15.txt',\n",
       " '150.jpg',\n",
       " '150.txt',\n",
       " '151.jpg',\n",
       " '151.txt',\n",
       " '152.jpg',\n",
       " '152.txt',\n",
       " '153.jpg',\n",
       " '153.txt',\n",
       " '154.jpg',\n",
       " '154.txt',\n",
       " '155.jpg',\n",
       " '155.txt',\n",
       " '156.jpg',\n",
       " '156.txt',\n",
       " '157.jpg',\n",
       " '158.jpg',\n",
       " '159.jpg',\n",
       " '159.txt',\n",
       " '16.jpg',\n",
       " '160.jpg',\n",
       " '160.txt',\n",
       " '161.jpg',\n",
       " '161.txt',\n",
       " '162.jpg',\n",
       " '162.txt',\n",
       " '163.jpg',\n",
       " '164.jpg',\n",
       " '164.txt',\n",
       " '165.jpg',\n",
       " '165.txt',\n",
       " '166.jpg',\n",
       " '167.jpg',\n",
       " '167.txt',\n",
       " '168.jpg',\n",
       " '168.txt',\n",
       " '169.jpg',\n",
       " '169.txt',\n",
       " '17.jpg',\n",
       " '17.txt',\n",
       " '170.jpg',\n",
       " '170.txt',\n",
       " '171.jpg',\n",
       " '171.txt',\n",
       " '172.jpg',\n",
       " '172.txt',\n",
       " '173.jpg',\n",
       " '173.txt',\n",
       " '174.jpg',\n",
       " '174.txt',\n",
       " '175.jpg',\n",
       " '175.txt',\n",
       " '176.jpg',\n",
       " '176.txt',\n",
       " '177.jpg',\n",
       " '178.jpg',\n",
       " '178.txt',\n",
       " '179.jpg',\n",
       " '179.txt',\n",
       " '18.jpg',\n",
       " '18.txt',\n",
       " '180.jpg',\n",
       " '180.txt',\n",
       " '181.jpg',\n",
       " '181.txt',\n",
       " '182.jpg',\n",
       " '183.jpg',\n",
       " '183.txt',\n",
       " '184.jpg',\n",
       " '184.txt',\n",
       " '185.jpg',\n",
       " '185.txt',\n",
       " '19.jpg',\n",
       " '19.txt',\n",
       " '2.jpg',\n",
       " '2.txt',\n",
       " '20.jpg',\n",
       " '20.txt',\n",
       " '21.jpg',\n",
       " '21.txt',\n",
       " '22.jpg',\n",
       " '22.txt',\n",
       " '23.jpg',\n",
       " '24.jpg',\n",
       " '24.txt',\n",
       " '25.jpg',\n",
       " '25.txt',\n",
       " '26.jpg',\n",
       " '26.txt',\n",
       " '27.jpg',\n",
       " '28.jpg',\n",
       " '28.txt',\n",
       " '29.jpg',\n",
       " '29.txt',\n",
       " '3.jpg',\n",
       " '30.jpg',\n",
       " '30.txt',\n",
       " '31.jpg',\n",
       " '32.jpg',\n",
       " '32.txt',\n",
       " '33.jpg',\n",
       " '33.txt',\n",
       " '34.jpg',\n",
       " '34.txt',\n",
       " '35.jpg',\n",
       " '35.txt',\n",
       " '36.jpg',\n",
       " '37.jpg',\n",
       " '37.txt',\n",
       " '38.jpg',\n",
       " '38.txt',\n",
       " '39.jpg',\n",
       " '39.txt',\n",
       " '4.jpg',\n",
       " '4.txt',\n",
       " '40.jpg',\n",
       " '40.txt',\n",
       " '41.jpg',\n",
       " '42.jpg',\n",
       " '42.txt',\n",
       " '43.jpg',\n",
       " '44.jpg',\n",
       " '45.jpg',\n",
       " '45.txt',\n",
       " '46.jpg',\n",
       " '47.jpg',\n",
       " '47.txt',\n",
       " '48.jpg',\n",
       " '48.txt',\n",
       " '49.jpg',\n",
       " '5.jpg',\n",
       " '5.txt',\n",
       " '50.jpg',\n",
       " '51.jpg',\n",
       " '51.txt',\n",
       " '52.jpg',\n",
       " '53.jpg',\n",
       " '53.txt',\n",
       " '54.jpg',\n",
       " '54.txt',\n",
       " '55.jpg',\n",
       " '55.txt',\n",
       " '56.jpg',\n",
       " '56.txt',\n",
       " '57.jpg',\n",
       " '57.txt',\n",
       " '58.jpg',\n",
       " '59.jpg',\n",
       " '6.jpg',\n",
       " '6.txt',\n",
       " '60.jpg',\n",
       " '60.txt',\n",
       " '61.jpg',\n",
       " '62.jpg',\n",
       " '63.jpg',\n",
       " '64.jpg',\n",
       " '65.jpg',\n",
       " '66.jpg',\n",
       " '66.txt',\n",
       " '67.jpg',\n",
       " '67.txt',\n",
       " '68.jpg',\n",
       " '68.txt',\n",
       " '69.jpg',\n",
       " '69.txt',\n",
       " '7.jpg',\n",
       " '7.txt',\n",
       " '70.jpg',\n",
       " '71.jpg',\n",
       " '71.txt',\n",
       " '72.jpg',\n",
       " '73.jpg',\n",
       " '74.jpg',\n",
       " '75.jpg',\n",
       " '76.jpg',\n",
       " '76.txt',\n",
       " '77.jpg',\n",
       " '77.txt',\n",
       " '78.jpg',\n",
       " '79.jpg',\n",
       " '8.jpg',\n",
       " '8.txt',\n",
       " '80.jpg',\n",
       " '80.txt',\n",
       " '81.jpg',\n",
       " '81.txt',\n",
       " '82.jpg',\n",
       " '82.txt',\n",
       " '83.jpg',\n",
       " '83.txt',\n",
       " '84.jpg',\n",
       " '84.txt',\n",
       " '85.jpg',\n",
       " '85.txt',\n",
       " '86.jpg',\n",
       " '87.jpg',\n",
       " '88.jpg',\n",
       " '89.jpg',\n",
       " '9.jpg',\n",
       " '90.jpg',\n",
       " '91.jpg',\n",
       " '92.jpg',\n",
       " '92.txt',\n",
       " '93.jpg',\n",
       " '93.txt',\n",
       " '94.jpg',\n",
       " '95.jpg',\n",
       " '95.txt',\n",
       " '96.jpg',\n",
       " '97.jpg',\n",
       " '98.jpg',\n",
       " '98.txt',\n",
       " '99.jpg',\n",
       " '99.txt',\n",
       " 'classes.txt']"
      ]
     },
     "execution_count": 27,
     "metadata": {},
     "output_type": "execute_result"
    }
   ],
   "source": [
    "os.listdir(\"yolov4/darknet/images/ladders_yard/\")"
   ]
  },
  {
   "cell_type": "code",
   "execution_count": 1,
   "metadata": {},
   "outputs": [],
   "source": [
    "from datetime import datetime\n",
    "\n",
    "now = datetime.now()"
   ]
  },
  {
   "cell_type": "code",
   "execution_count": 2,
   "metadata": {},
   "outputs": [
    {
     "data": {
      "text/plain": [
       "datetime.datetime(2021, 1, 11, 10, 55, 42, 836652)"
      ]
     },
     "execution_count": 2,
     "metadata": {},
     "output_type": "execute_result"
    }
   ],
   "source": [
    "now"
   ]
  },
  {
   "cell_type": "code",
   "execution_count": 8,
   "metadata": {},
   "outputs": [
    {
     "data": {
      "text/plain": [
       "'1'"
      ]
     },
     "execution_count": 8,
     "metadata": {},
     "output_type": "execute_result"
    }
   ],
   "source": [
    "str(now.month)"
   ]
  },
  {
   "cell_type": "code",
   "execution_count": 7,
   "metadata": {},
   "outputs": [
    {
     "data": {
      "text/plain": [
       "'202111110'"
      ]
     },
     "execution_count": 7,
     "metadata": {},
     "output_type": "execute_result"
    }
   ],
   "source": [
    "str(now.year)+str(now.month)+str(now.day)+str(now.hour)"
   ]
  },
  {
   "cell_type": "code",
   "execution_count": 11,
   "metadata": {},
   "outputs": [
    {
     "data": {
      "text/plain": [
       "'2021-01-11_10:55:42'"
      ]
     },
     "execution_count": 11,
     "metadata": {},
     "output_type": "execute_result"
    }
   ],
   "source": [
    "now.strftime(\"%Y-%m-%d_%H:%M:%S\")"
   ]
  },
  {
   "cell_type": "code",
   "execution_count": null,
   "metadata": {},
   "outputs": [],
   "source": [
    "\"%Y-%m-%d %H:%M:%S\""
   ]
  },
  {
   "cell_type": "code",
   "execution_count": 61,
   "metadata": {},
   "outputs": [],
   "source": [
    "import os"
   ]
  },
  {
   "cell_type": "code",
   "execution_count": 87,
   "metadata": {},
   "outputs": [],
   "source": [
    "cur_files = os.listdir(\"yolov4/darknet/images/ladders/ladder\")"
   ]
  },
  {
   "cell_type": "code",
   "execution_count": 88,
   "metadata": {},
   "outputs": [
    {
     "data": {
      "text/plain": [
       "141"
      ]
     },
     "execution_count": 88,
     "metadata": {},
     "output_type": "execute_result"
    }
   ],
   "source": [
    "len(cur_files)"
   ]
  },
  {
   "cell_type": "code",
   "execution_count": 70,
   "metadata": {},
   "outputs": [],
   "source": [
    "path = \"yolov4/darknet/images/ladders/ladder/\""
   ]
  },
  {
   "cell_type": "code",
   "execution_count": 86,
   "metadata": {},
   "outputs": [],
   "source": [
    "for name in os.listdir(\"yolov4/darknet/images/ladders/ladder\"):\n",
    "    pre,post = name.split(\".\")\n",
    "    if post==\"jpg\":\n",
    "        if pre+\".txt\" not in cur_files:\n",
    "            print(name)\n",
    "            os.remove(path+name)"
   ]
  },
  {
   "cell_type": "code",
   "execution_count": 89,
   "metadata": {},
   "outputs": [],
   "source": [
    "jpg_files = [f for f in cur_files if f.endswith(\".jpg\")]"
   ]
  },
  {
   "cell_type": "code",
   "execution_count": 91,
   "metadata": {},
   "outputs": [
    {
     "data": {
      "text/plain": [
       "70"
      ]
     },
     "execution_count": 91,
     "metadata": {},
     "output_type": "execute_result"
    }
   ],
   "source": [
    "len(jpg_files)"
   ]
  },
  {
   "cell_type": "code",
   "execution_count": 92,
   "metadata": {},
   "outputs": [],
   "source": [
    "r_path=\"images/ladders/ladder/\"\n",
    "tr = 65\n",
    "te = 5\n",
    "tr_files = []\n",
    "te_files = []"
   ]
  },
  {
   "cell_type": "code",
   "execution_count": 93,
   "metadata": {},
   "outputs": [],
   "source": [
    "for i,f in enumerate(jpg_files):\n",
    "    if i<tr:\n",
    "        tr_files.append(r_path+f)\n",
    "    else:\n",
    "        te_files.append(r_path+f)"
   ]
  },
  {
   "cell_type": "code",
   "execution_count": 94,
   "metadata": {},
   "outputs": [
    {
     "data": {
      "text/plain": [
       "65"
      ]
     },
     "execution_count": 94,
     "metadata": {},
     "output_type": "execute_result"
    }
   ],
   "source": [
    "len(tr_files)"
   ]
  },
  {
   "cell_type": "code",
   "execution_count": 95,
   "metadata": {},
   "outputs": [],
   "source": [
    "with open('yolov4/darknet/images/ladder_training_0106.txt', mode='wt', encoding='utf-8') as myfile:\n",
    "    myfile.write('\\n'.join(tr_files))"
   ]
  },
  {
   "cell_type": "code",
   "execution_count": 96,
   "metadata": {},
   "outputs": [],
   "source": [
    "with open('yolov4/darknet/images/ladder_testing_0106.txt', mode='wt', encoding='utf-8') as myfile:\n",
    "    myfile.write('\\n'.join(te_files))"
   ]
  },
  {
   "cell_type": "code",
   "execution_count": 48,
   "metadata": {},
   "outputs": [],
   "source": [
    "import cv2"
   ]
  },
  {
   "cell_type": "code",
   "execution_count": 49,
   "metadata": {},
   "outputs": [
    {
     "data": {
      "text/plain": [
       "'4.5.1'"
      ]
     },
     "execution_count": 49,
     "metadata": {},
     "output_type": "execute_result"
    }
   ],
   "source": [
    "cv2.__version__"
   ]
  },
  {
   "cell_type": "code",
   "execution_count": null,
   "metadata": {},
   "outputs": [],
   "source": []
  },
  {
   "cell_type": "code",
   "execution_count": null,
   "metadata": {},
   "outputs": [],
   "source": []
  },
  {
   "cell_type": "code",
   "execution_count": null,
   "metadata": {},
   "outputs": [],
   "source": []
  },
  {
   "cell_type": "code",
   "execution_count": null,
   "metadata": {},
   "outputs": [],
   "source": []
  },
  {
   "cell_type": "markdown",
   "metadata": {},
   "source": [
    "# detect"
   ]
  },
  {
   "cell_type": "code",
   "execution_count": 3,
   "metadata": {},
   "outputs": [],
   "source": [
    "import numpy as  np\n",
    "import cv2\n",
    "\n",
    "# load the image to detect, get width, height "
   ]
  },
  {
   "cell_type": "code",
   "execution_count": 12,
   "metadata": {},
   "outputs": [],
   "source": [
    "from datetime import datetime\n",
    "import os\n",
    "now = datetime.now()"
   ]
  },
  {
   "cell_type": "code",
   "execution_count": 17,
   "metadata": {},
   "outputs": [
    {
     "ename": "OSError",
     "evalue": "symbolic link privilege not held",
     "output_type": "error",
     "traceback": [
      "\u001b[1;31m---------------------------------------------------------------------------\u001b[0m",
      "\u001b[1;31mOSError\u001b[0m                                   Traceback (most recent call last)",
      "\u001b[1;32m<ipython-input-17-7c740c02a638>\u001b[0m in \u001b[0;36m<module>\u001b[1;34m\u001b[0m\n\u001b[0;32m     10\u001b[0m \u001b[1;31m# pointing to src named dst\u001b[0m\u001b[1;33m\u001b[0m\u001b[1;33m\u001b[0m\u001b[1;33m\u001b[0m\u001b[0m\n\u001b[0;32m     11\u001b[0m \u001b[1;31m# using os.symlink() method\u001b[0m\u001b[1;33m\u001b[0m\u001b[1;33m\u001b[0m\u001b[1;33m\u001b[0m\u001b[0m\n\u001b[1;32m---> 12\u001b[1;33m \u001b[0mos\u001b[0m\u001b[1;33m.\u001b[0m\u001b[0msymlink\u001b[0m\u001b[1;33m(\u001b[0m\u001b[0msrc\u001b[0m\u001b[1;33m,\u001b[0m \u001b[0mdst\u001b[0m\u001b[1;33m)\u001b[0m\u001b[1;33m\u001b[0m\u001b[1;33m\u001b[0m\u001b[0m\n\u001b[0m",
      "\u001b[1;31mOSError\u001b[0m: symbolic link privilege not held"
     ]
    }
   ],
   "source": [
    "# Source file path \n",
    "src = 'D:\\WM\\Project\\ladder\\yolov4\\custom_tools\\apps\\Yolo4-ladder-detection-flask-app\\backend\\model_config\\ladder\\images'\n",
    "  \n",
    "# Destination file path \n",
    "cur = 'D:\\WM\\Project\\ladder\\yolov4\\darknet\\images\\\\'\n",
    "dst =cur+\"ladder_\"+now.strftime(\"%Y-%m-%d_%H_%M\")\n",
    "if not os.path.exists(dst):\n",
    "    os.mkdir(dst)\n",
    "# Create a symbolic link \n",
    "# pointing to src named dst \n",
    "# using os.symlink() method \n",
    "os.symlink(src, dst) "
   ]
  },
  {
   "cell_type": "code",
   "execution_count": null,
   "metadata": {},
   "outputs": [],
   "source": []
  },
  {
   "cell_type": "code",
   "execution_count": null,
   "metadata": {},
   "outputs": [],
   "source": []
  },
  {
   "cell_type": "code",
   "execution_count": 38,
   "metadata": {},
   "outputs": [],
   "source": [
    "img_to_detect2 = cv2.imread('yolov4/darknet/images/ladders/ladder/094.jpg')"
   ]
  },
  {
   "cell_type": "code",
   "execution_count": 40,
   "metadata": {},
   "outputs": [
    {
     "data": {
      "text/plain": [
       "array([[[ 61,  72,  80],\n",
       "        [ 47,  57,  67],\n",
       "        [ 33,  40,  59],\n",
       "        ...,\n",
       "        [  6,  18,   0],\n",
       "        [  9,  21,   3],\n",
       "        [ 11,  23,   5]],\n",
       "\n",
       "       [[ 56,  68,  74],\n",
       "        [ 43,  54,  62],\n",
       "        [ 30,  38,  55],\n",
       "        ...,\n",
       "        [  6,  18,   0],\n",
       "        [ 10,  22,   4],\n",
       "        [ 12,  24,   6]],\n",
       "\n",
       "       [[ 45,  58,  60],\n",
       "        [ 34,  46,  50],\n",
       "        [ 24,  33,  46],\n",
       "        ...,\n",
       "        [  9,  20,   4],\n",
       "        [ 12,  23,   7],\n",
       "        [ 15,  26,  10]],\n",
       "\n",
       "       ...,\n",
       "\n",
       "       [[ 92, 108, 115],\n",
       "        [ 53,  69,  76],\n",
       "        [ 50,  65,  74],\n",
       "        ...,\n",
       "        [ 87, 100, 102],\n",
       "        [ 78,  90,  94],\n",
       "        [ 33,  45,  51]],\n",
       "\n",
       "       [[101, 117, 124],\n",
       "        [ 71,  87,  94],\n",
       "        [ 44,  60,  67],\n",
       "        ...,\n",
       "        [ 92, 105, 107],\n",
       "        [ 90, 102, 106],\n",
       "        [ 45,  57,  63]],\n",
       "\n",
       "       [[ 95, 111, 118],\n",
       "        [ 83,  99, 106],\n",
       "        [ 51,  67,  74],\n",
       "        ...,\n",
       "        [ 99, 112, 114],\n",
       "        [115, 127, 131],\n",
       "        [ 90, 102, 108]]], dtype=uint8)"
      ]
     },
     "execution_count": 40,
     "metadata": {},
     "output_type": "execute_result"
    }
   ],
   "source": [
    "img_to_detect2"
   ]
  },
  {
   "cell_type": "code",
   "execution_count": 57,
   "metadata": {},
   "outputs": [],
   "source": [
    "img_to_detect = cv2.imread('yolov4/darknet/images/ladders/ladder/026.jpg')"
   ]
  },
  {
   "cell_type": "code",
   "execution_count": 58,
   "metadata": {},
   "outputs": [
    {
     "name": "stdout",
     "output_type": "stream",
     "text": [
      "cinfidence list is [0.6432077884674072, 0.8346089124679565, 0.9295052886009216, 0.7703809142112732, 0.8495113253593445]\n",
      "predicted object ladder: 92.95%\n",
      "predicted object ladder: 84.95%\n"
     ]
    }
   ],
   "source": [
    "img_height = img_to_detect.shape[0]\n",
    "img_width = img_to_detect.shape[1]\n",
    "\n",
    "# convert to blob to pass into model\n",
    "img_blob = cv2.dnn.blobFromImage(img_to_detect, 0.003922, (416, 416), swapRB=True, crop=False)\n",
    "#recommended by yolo authors, scale factor is 0.003922=1/255, width,height of blob is 320,320\n",
    "#accepted sizes are 320×320,416×416,608×608. More size means more accuracy but less speed\n",
    "\n",
    "# set of 80 class labels \n",
    "class_labels = [\"ladder\"]\n",
    "\n",
    "#Declare List of colors as an array\n",
    "#Green, Blue, Red, cyan, yellow, purple\n",
    "#Split based on ',' and for every split, change type to int\n",
    "#convert that to a numpy array to apply color mask to the image numpy array\n",
    "class_colors = [\"0,255,0\",\"0,0,255\",\"255,0,0\",\"255,255,0\",\"0,255,255\"]\n",
    "class_colors = [np.array(every_color.split(\",\")).astype(\"int\") for every_color in class_colors]\n",
    "class_colors = np.array(class_colors)\n",
    "class_colors = np.tile(class_colors,(16,1))\n",
    "\n",
    "# Loading pretrained model \n",
    "# input preprocessed blob into model and pass through the model\n",
    "# obtain the detection predictions by the model using forward() method\n",
    "yolo_model = cv2.dnn.readNetFromDarknet('yolov4/darknet/ladder_yolov4.cfg','yolov4/darknet/ladder_yolov4_best.weights')\n",
    "\n",
    "# Get all layers from the yolo network\n",
    "# Loop and find the last layer (output layer) of the yolo network \n",
    "yolo_layers = yolo_model.getLayerNames()\n",
    "yolo_output_layer = [yolo_layers[yolo_layer[0] - 1] for yolo_layer in yolo_model.getUnconnectedOutLayers()]\n",
    "\n",
    "# input preprocessed blob into model and pass through the model\n",
    "yolo_model.setInput(img_blob)\n",
    "# obtain the detection layers by forwarding through till the output layer\n",
    "obj_detection_layers = yolo_model.forward(yolo_output_layer)\n",
    "\n",
    "\n",
    "############## NMS Change 1 ###############\n",
    "# initialization for non-max suppression (NMS)\n",
    "# declare list for [class id], [box center, width & height[], [confidences]\n",
    "class_ids_list = []\n",
    "boxes_list = []\n",
    "confidences_list = []\n",
    "############## NMS Change 1 END ###########\n",
    "\n",
    "\n",
    "# loop over each of the layer outputs\n",
    "for object_detection_layer in obj_detection_layers:\n",
    "    # loop over the detections\n",
    "    for object_detection in object_detection_layer:\n",
    "        \n",
    "        # obj_detections[1 to 4] => will have the two center points, box width and box height\n",
    "        # obj_detections[5] => will have scores for all objects within bounding box\n",
    "        all_scores = object_detection[5:]\n",
    "        predicted_class_id = np.argmax(all_scores)\n",
    "        prediction_confidence = all_scores[predicted_class_id]\n",
    "    \n",
    "        # take only predictions with confidence more than 50%\n",
    "        if prediction_confidence > 0.50:\n",
    "\n",
    "            #obtain the bounding box co-oridnates for actual image from resized image size\n",
    "            bounding_box = object_detection[0:4] * np.array([img_width, img_height, img_width, img_height])\n",
    "            (box_center_x_pt, box_center_y_pt, box_width, box_height) = bounding_box.astype(\"int\")\n",
    "            start_x_pt = int(box_center_x_pt - (box_width / 2))\n",
    "            start_y_pt = int(box_center_y_pt - (box_height / 2))\n",
    "            \n",
    "            \n",
    "            ############## NMS Change 2 ###############\n",
    "            #save class id, start x, y, width & height, confidences in a list for nms processing\n",
    "            #make sure to pass confidence as float and width and height as integers\n",
    "            class_ids_list.append(predicted_class_id)\n",
    "            confidences_list.append(float(prediction_confidence))\n",
    "            boxes_list.append([start_x_pt, start_y_pt, int(box_width), int(box_height)])\n",
    "            ############## NMS Change 2 END ###########\n",
    "\n",
    "print('cinfidence list is',confidences_list)\n",
    "\n",
    "############## NMS Change 3 ###############\n",
    "# Applying the NMS will return only the selected max value ids while suppressing the non maximum (weak) overlapping bounding boxes      \n",
    "# Non-Maxima Suppression confidence set as 0.5 & max_suppression threhold for NMS as 0.4 (adjust and try for better perfomance)\n",
    "max_value_ids = cv2.dnn.NMSBoxes(boxes_list, confidences_list, 0.5, 0.4)\n",
    "\n",
    "# loop through the final set of detections remaining after NMS and draw bounding box and write text\n",
    "for max_valueid in max_value_ids:\n",
    "    max_class_id = max_valueid[0]\n",
    "    box = boxes_list[max_class_id]\n",
    "    start_x_pt = box[0]\n",
    "    start_y_pt = box[1]\n",
    "    box_width = box[2]\n",
    "    box_height = box[3]\n",
    "    \n",
    "    #get the predicted class id and label\n",
    "    predicted_class_id = class_ids_list[max_class_id]\n",
    "    predicted_class_label = class_labels[predicted_class_id]\n",
    "    prediction_confidence = confidences_list[max_class_id]\n",
    "############## NMS Change 3 END ###########\n",
    "\n",
    "    \n",
    "    #obtain the bounding box end co-oridnates\n",
    "    end_x_pt = start_x_pt + box_width\n",
    "    end_y_pt = start_y_pt + box_height\n",
    "    \n",
    "    #get a random mask color from the numpy array of colors\n",
    "    box_color = class_colors[predicted_class_id]\n",
    "    \n",
    "    #convert the color numpy array as a list and apply to text and box\n",
    "    box_color = [int(c) for c in box_color]\n",
    "    \n",
    "    # print the prediction in console\n",
    "    predicted_class_label = \"{}: {:.2f}%\".format(predicted_class_label, prediction_confidence * 100)\n",
    "    print(\"predicted object {}\".format(predicted_class_label))\n",
    "    \n",
    "    # draw rectangle and text in the image\n",
    "    cv2.rectangle(img_to_detect, (start_x_pt, start_y_pt), (end_x_pt, end_y_pt), box_color, 1)\n",
    "    cv2.putText(img_to_detect, predicted_class_label, (start_x_pt, start_y_pt-5), cv2.FONT_HERSHEY_SIMPLEX, 0.5, box_color, 1)"
   ]
  },
  {
   "cell_type": "code",
   "execution_count": 59,
   "metadata": {},
   "outputs": [
    {
     "data": {
      "text/plain": [
       "-1"
      ]
     },
     "execution_count": 59,
     "metadata": {},
     "output_type": "execute_result"
    }
   ],
   "source": [
    "cv2.imshow(\"Detection Output\", img_to_detect)\n",
    "\n",
    "cv2.waitKey(0)\n",
    "\n",
    "cv2.destroyAllWindows()\n",
    "\n",
    "cv2.waitKey(1)"
   ]
  },
  {
   "cell_type": "code",
   "execution_count": 9,
   "metadata": {},
   "outputs": [],
   "source": [
    "path = \"backend/model_config/ladder/\""
   ]
  },
  {
   "cell_type": "code",
   "execution_count": 11,
   "metadata": {},
   "outputs": [],
   "source": [
    "import os"
   ]
  },
  {
   "cell_type": "code",
   "execution_count": 14,
   "metadata": {},
   "outputs": [
    {
     "data": {
      "text/plain": [
       "'backend/model_config/ladder/image/dafd.img'"
      ]
     },
     "execution_count": 14,
     "metadata": {},
     "output_type": "execute_result"
    }
   ],
   "source": [
    "os.path.join(path,'image/',\"dafd.img\")"
   ]
  },
  {
   "cell_type": "code",
   "execution_count": 16,
   "metadata": {},
   "outputs": [
    {
     "data": {
      "text/plain": [
       "1.6666666666666667"
      ]
     },
     "execution_count": 16,
     "metadata": {},
     "output_type": "execute_result"
    }
   ],
   "source": [
    "5/3."
   ]
  },
  {
   "cell_type": "code",
   "execution_count": 18,
   "metadata": {},
   "outputs": [],
   "source": [
    "abc = 10\n",
    "def a():\n",
    "    global abc\n",
    "    abc=[1,2]\n",
    "def b():\n",
    "    print(abc)"
   ]
  },
  {
   "cell_type": "code",
   "execution_count": 19,
   "metadata": {},
   "outputs": [],
   "source": [
    "a()"
   ]
  },
  {
   "cell_type": "code",
   "execution_count": 20,
   "metadata": {},
   "outputs": [
    {
     "name": "stdout",
     "output_type": "stream",
     "text": [
      "[1, 2]\n"
     ]
    }
   ],
   "source": [
    "b()"
   ]
  },
  {
   "cell_type": "code",
   "execution_count": 29,
   "metadata": {},
   "outputs": [
    {
     "data": {
      "text/plain": [
       "['0.jpg',\n",
       " '0.txt',\n",
       " '1.jpg',\n",
       " '1.txt',\n",
       " '102.jpg',\n",
       " '102.txt',\n",
       " '104.jpg',\n",
       " '104.txt',\n",
       " '106.jpg',\n",
       " '106.txt',\n",
       " '107.jpg',\n",
       " '107.txt',\n",
       " '108.jpg',\n",
       " '108.txt',\n",
       " '109.jpg',\n",
       " '109.txt',\n",
       " '110.jpg',\n",
       " '110.txt',\n",
       " '111.jpg',\n",
       " '111.txt',\n",
       " '112.jpg',\n",
       " '112.txt',\n",
       " '113.jpg',\n",
       " '113.txt',\n",
       " '114.jpg',\n",
       " '114.txt',\n",
       " '115.jpg',\n",
       " '115.txt',\n",
       " '116.jpg',\n",
       " '116.txt',\n",
       " '117.jpg',\n",
       " '117.txt',\n",
       " '118.jpg',\n",
       " '118.txt',\n",
       " '12.jpg',\n",
       " '12.txt',\n",
       " '121.jpg',\n",
       " '121.txt',\n",
       " '123.jpg',\n",
       " '123.txt',\n",
       " '124.jpg',\n",
       " '124.txt',\n",
       " '126.jpg',\n",
       " '126.txt',\n",
       " '128.jpg',\n",
       " '128.txt',\n",
       " '129.jpg',\n",
       " '129.txt',\n",
       " '13.jpg',\n",
       " '13.txt',\n",
       " '130.jpg',\n",
       " '130.txt',\n",
       " '131.jpg',\n",
       " '131.txt',\n",
       " '132.jpg',\n",
       " '132.txt',\n",
       " '133.jpg',\n",
       " '133.txt',\n",
       " '134.jpg',\n",
       " '134.txt',\n",
       " '135.jpg',\n",
       " '135.txt',\n",
       " '136.jpg',\n",
       " '136.txt',\n",
       " '137.jpg',\n",
       " '137.txt',\n",
       " '138.jpg',\n",
       " '138.txt',\n",
       " '139.jpg',\n",
       " '139.txt',\n",
       " '14.jpg',\n",
       " '14.txt',\n",
       " '140.jpg',\n",
       " '140.txt',\n",
       " '141.jpg',\n",
       " '141.txt',\n",
       " '142.jpg',\n",
       " '142.txt',\n",
       " '143.jpg',\n",
       " '143.txt',\n",
       " '144.jpg',\n",
       " '144.txt',\n",
       " '145.jpg',\n",
       " '145.txt',\n",
       " '146.jpg',\n",
       " '146.txt',\n",
       " '147.jpg',\n",
       " '147.txt',\n",
       " '148.jpg',\n",
       " '148.txt',\n",
       " '149.jpg',\n",
       " '149.txt',\n",
       " '15.jpg',\n",
       " '15.txt',\n",
       " '150.jpg',\n",
       " '150.txt',\n",
       " '151.jpg',\n",
       " '151.txt',\n",
       " '152.jpg',\n",
       " '152.txt',\n",
       " '153.jpg',\n",
       " '153.txt',\n",
       " '154.jpg',\n",
       " '154.txt',\n",
       " '155.jpg',\n",
       " '155.txt',\n",
       " '156.jpg',\n",
       " '156.txt',\n",
       " '159.jpg',\n",
       " '159.txt',\n",
       " '160.jpg',\n",
       " '160.txt',\n",
       " '161.jpg',\n",
       " '161.txt',\n",
       " '162.jpg',\n",
       " '162.txt',\n",
       " '164.jpg',\n",
       " '164.txt',\n",
       " '165.jpg',\n",
       " '165.txt',\n",
       " '167.jpg',\n",
       " '167.txt',\n",
       " '168.jpg',\n",
       " '168.txt',\n",
       " '169.jpg',\n",
       " '169.txt',\n",
       " '17.jpg',\n",
       " '17.txt',\n",
       " '170.jpg',\n",
       " '170.txt',\n",
       " '171.jpg',\n",
       " '171.txt',\n",
       " '172.jpg',\n",
       " '172.txt',\n",
       " '173.jpg',\n",
       " '173.txt',\n",
       " '174.jpg',\n",
       " '174.txt',\n",
       " '175.jpg',\n",
       " '175.txt',\n",
       " '176.jpg',\n",
       " '176.txt',\n",
       " '178.jpg',\n",
       " '178.txt',\n",
       " '179.jpg',\n",
       " '179.txt',\n",
       " '18.jpg',\n",
       " '18.txt',\n",
       " '180.jpg',\n",
       " '180.txt',\n",
       " '181.jpg',\n",
       " '181.txt',\n",
       " '183.jpg',\n",
       " '183.txt',\n",
       " '184.jpg',\n",
       " '184.txt',\n",
       " '185.jpg',\n",
       " '185.txt',\n",
       " '19.jpg',\n",
       " '19.txt',\n",
       " '2.jpg',\n",
       " '2.txt',\n",
       " '21.jpg',\n",
       " '21.txt',\n",
       " '22.jpg',\n",
       " '22.txt',\n",
       " '24.jpg',\n",
       " '24.txt',\n",
       " '25.jpg',\n",
       " '25.txt',\n",
       " '26.jpg',\n",
       " '26.txt',\n",
       " '28.jpg',\n",
       " '28.txt',\n",
       " '29.jpg',\n",
       " '29.txt',\n",
       " '30.jpg',\n",
       " '30.txt',\n",
       " '32.jpg',\n",
       " '32.txt',\n",
       " '33.jpg',\n",
       " '33.txt',\n",
       " '34.jpg',\n",
       " '34.txt',\n",
       " '35.jpg',\n",
       " '35.txt',\n",
       " '37.jpg',\n",
       " '37.txt',\n",
       " '38.jpg',\n",
       " '38.txt',\n",
       " '39.jpg',\n",
       " '39.txt',\n",
       " '40.jpg',\n",
       " '40.txt',\n",
       " '42.jpg',\n",
       " '42.txt',\n",
       " '45.jpg',\n",
       " '45.txt',\n",
       " '47.jpg',\n",
       " '47.txt',\n",
       " '48.jpg',\n",
       " '48.txt',\n",
       " '5.jpg',\n",
       " '5.txt',\n",
       " '51.jpg',\n",
       " '51.txt',\n",
       " '53.jpg',\n",
       " '53.txt',\n",
       " '54.jpg',\n",
       " '54.txt',\n",
       " '55.jpg',\n",
       " '55.txt',\n",
       " '56.jpg',\n",
       " '56.txt',\n",
       " '57.jpg',\n",
       " '57.txt',\n",
       " '6.jpg',\n",
       " '6.txt',\n",
       " '60.jpg',\n",
       " '60.txt',\n",
       " '66.jpg',\n",
       " '66.txt',\n",
       " '67.jpg',\n",
       " '67.txt',\n",
       " '68.jpg',\n",
       " '68.txt',\n",
       " '69.jpg',\n",
       " '69.txt',\n",
       " '7.jpg',\n",
       " '7.txt',\n",
       " '71.jpg',\n",
       " '71.txt',\n",
       " '76.jpg',\n",
       " '76.txt',\n",
       " '77.jpg',\n",
       " '77.txt',\n",
       " '8.jpg',\n",
       " '8.txt',\n",
       " '80.jpg',\n",
       " '80.txt',\n",
       " '81.jpg',\n",
       " '81.txt',\n",
       " '82.jpg',\n",
       " '82.txt',\n",
       " '83.jpg',\n",
       " '83.txt',\n",
       " '84.jpg',\n",
       " '84.txt',\n",
       " '85.jpg',\n",
       " '85.txt',\n",
       " '92.jpg',\n",
       " '92.txt',\n",
       " '93.jpg',\n",
       " '93.txt',\n",
       " '95.jpg',\n",
       " '95.txt',\n",
       " '98.jpg',\n",
       " '98.txt',\n",
       " '99.jpg',\n",
       " '99.txt',\n",
       " 'class.txt']"
      ]
     },
     "execution_count": 29,
     "metadata": {},
     "output_type": "execute_result"
    }
   ],
   "source": [
    "os.listdir(\"yolov4/darknet/images/ladders_yard/\")"
   ]
  },
  {
   "cell_type": "code",
   "execution_count": 30,
   "metadata": {},
   "outputs": [
    {
     "data": {
      "text/plain": [
       "'D:\\\\WM\\\\Project\\\\ladder'"
      ]
     },
     "execution_count": 30,
     "metadata": {},
     "output_type": "execute_result"
    }
   ],
   "source": [
    "os.getcwd()"
   ]
  },
  {
   "cell_type": "code",
   "execution_count": null,
   "metadata": {},
   "outputs": [],
   "source": []
  },
  {
   "cell_type": "code",
   "execution_count": 40,
   "metadata": {},
   "outputs": [
    {
     "data": {
      "text/plain": [
       "3"
      ]
     },
     "execution_count": 40,
     "metadata": {},
     "output_type": "execute_result"
    }
   ],
   "source": [
    "len(next(os.walk(\".\"))[2])"
   ]
  },
  {
   "cell_type": "code",
   "execution_count": 38,
   "metadata": {},
   "outputs": [
    {
     "data": {
      "text/plain": [
       "3"
      ]
     },
     "execution_count": 38,
     "metadata": {},
     "output_type": "execute_result"
    }
   ],
   "source": [
    "len(f)"
   ]
  },
  {
   "cell_type": "code",
   "execution_count": 39,
   "metadata": {},
   "outputs": [
    {
     "data": {
      "text/plain": [
       "['chromedriver_win32.zip', 'debug.log', 'Untitled.ipynb']"
      ]
     },
     "execution_count": 39,
     "metadata": {},
     "output_type": "execute_result"
    }
   ],
   "source": [
    "f"
   ]
  },
  {
   "cell_type": "code",
   "execution_count": null,
   "metadata": {},
   "outputs": [],
   "source": []
  }
 ],
 "metadata": {
  "kernelspec": {
   "display_name": "Python 3",
   "language": "python",
   "name": "python3"
  },
  "language_info": {
   "codemirror_mode": {
    "name": "ipython",
    "version": 3
   },
   "file_extension": ".py",
   "mimetype": "text/x-python",
   "name": "python",
   "nbconvert_exporter": "python",
   "pygments_lexer": "ipython3",
   "version": "3.7.7"
  }
 },
 "nbformat": 4,
 "nbformat_minor": 4
}
